{
 "cells": [
  {
   "cell_type": "code",
   "execution_count": 1,
   "metadata": {},
   "outputs": [],
   "source": [
    "import numpy as np\n",
    "import pandas as pd\n",
    "import matplotlib.pyplot as plt\n",
    "import seaborn as sb"
   ]
  },
  {
   "cell_type": "markdown",
   "metadata": {},
   "source": [
    "## Part 3: Working with the dataset\n",
    "\n",
    "There's no data science without data, so we'll start thinking about ways to acquire data. You've already played around with reading/writing text from files. The exercises today focus on our big CSV file.\n",
    "\n",
    "Let's start by think a bit more about the crime-data file from San Francisco that you downloaded last week. The file has may columns, and today we'll be working with\n",
    "\n",
    "* The various categories of crimes\n",
    "* Crime over the years\n",
    "* What time of day do crimes occur?\n",
    "* And do certain crime-types tend to happen in specific neighborhoods?\n",
    "* We'll play around with geo-data.\n",
    "\n",
    "All of this can be easily calculated based on the columns in the incident file."
   ]
  },
  {
   "cell_type": "code",
   "execution_count": 2,
   "metadata": {},
   "outputs": [],
   "source": [
    "df = pd.read_csv('Police_Department_Incident_Reports__Historical_2003_to_May_2018.csv')"
   ]
  },
  {
   "cell_type": "code",
   "execution_count": 3,
   "metadata": {},
   "outputs": [
    {
     "data": {
      "text/html": [
       "<div>\n",
       "<style scoped>\n",
       "    .dataframe tbody tr th:only-of-type {\n",
       "        vertical-align: middle;\n",
       "    }\n",
       "\n",
       "    .dataframe tbody tr th {\n",
       "        vertical-align: top;\n",
       "    }\n",
       "\n",
       "    .dataframe thead th {\n",
       "        text-align: right;\n",
       "    }\n",
       "</style>\n",
       "<table border=\"1\" class=\"dataframe\">\n",
       "  <thead>\n",
       "    <tr style=\"text-align: right;\">\n",
       "      <th></th>\n",
       "      <th>IncidntNum</th>\n",
       "      <th>Category</th>\n",
       "      <th>Descript</th>\n",
       "      <th>DayOfWeek</th>\n",
       "      <th>Date</th>\n",
       "      <th>Time</th>\n",
       "      <th>PdDistrict</th>\n",
       "      <th>Resolution</th>\n",
       "      <th>Address</th>\n",
       "      <th>X</th>\n",
       "      <th>Y</th>\n",
       "      <th>Location</th>\n",
       "      <th>PdId</th>\n",
       "    </tr>\n",
       "  </thead>\n",
       "  <tbody>\n",
       "    <tr>\n",
       "      <th>0</th>\n",
       "      <td>150060275</td>\n",
       "      <td>NON-CRIMINAL</td>\n",
       "      <td>LOST PROPERTY</td>\n",
       "      <td>Monday</td>\n",
       "      <td>01/19/2015</td>\n",
       "      <td>14:00</td>\n",
       "      <td>MISSION</td>\n",
       "      <td>NONE</td>\n",
       "      <td>18TH ST / VALENCIA ST</td>\n",
       "      <td>-122.421582</td>\n",
       "      <td>37.761701</td>\n",
       "      <td>(37.7617007179518, -122.42158168137)</td>\n",
       "      <td>15006027571000</td>\n",
       "    </tr>\n",
       "    <tr>\n",
       "      <th>1</th>\n",
       "      <td>150098210</td>\n",
       "      <td>ROBBERY</td>\n",
       "      <td>ROBBERY, BODILY FORCE</td>\n",
       "      <td>Sunday</td>\n",
       "      <td>02/01/2015</td>\n",
       "      <td>15:45</td>\n",
       "      <td>TENDERLOIN</td>\n",
       "      <td>NONE</td>\n",
       "      <td>300 Block of LEAVENWORTH ST</td>\n",
       "      <td>-122.414406</td>\n",
       "      <td>37.784191</td>\n",
       "      <td>(37.7841907151119, -122.414406029855)</td>\n",
       "      <td>15009821003074</td>\n",
       "    </tr>\n",
       "    <tr>\n",
       "      <th>2</th>\n",
       "      <td>150098210</td>\n",
       "      <td>ASSAULT</td>\n",
       "      <td>AGGRAVATED ASSAULT WITH BODILY FORCE</td>\n",
       "      <td>Sunday</td>\n",
       "      <td>02/01/2015</td>\n",
       "      <td>15:45</td>\n",
       "      <td>TENDERLOIN</td>\n",
       "      <td>NONE</td>\n",
       "      <td>300 Block of LEAVENWORTH ST</td>\n",
       "      <td>-122.414406</td>\n",
       "      <td>37.784191</td>\n",
       "      <td>(37.7841907151119, -122.414406029855)</td>\n",
       "      <td>15009821004014</td>\n",
       "    </tr>\n",
       "    <tr>\n",
       "      <th>3</th>\n",
       "      <td>150098210</td>\n",
       "      <td>SECONDARY CODES</td>\n",
       "      <td>DOMESTIC VIOLENCE</td>\n",
       "      <td>Sunday</td>\n",
       "      <td>02/01/2015</td>\n",
       "      <td>15:45</td>\n",
       "      <td>TENDERLOIN</td>\n",
       "      <td>NONE</td>\n",
       "      <td>300 Block of LEAVENWORTH ST</td>\n",
       "      <td>-122.414406</td>\n",
       "      <td>37.784191</td>\n",
       "      <td>(37.7841907151119, -122.414406029855)</td>\n",
       "      <td>15009821015200</td>\n",
       "    </tr>\n",
       "    <tr>\n",
       "      <th>4</th>\n",
       "      <td>150098226</td>\n",
       "      <td>VANDALISM</td>\n",
       "      <td>MALICIOUS MISCHIEF, VANDALISM OF VEHICLES</td>\n",
       "      <td>Tuesday</td>\n",
       "      <td>01/27/2015</td>\n",
       "      <td>19:00</td>\n",
       "      <td>NORTHERN</td>\n",
       "      <td>NONE</td>\n",
       "      <td>LOMBARD ST / LAGUNA ST</td>\n",
       "      <td>-122.431119</td>\n",
       "      <td>37.800469</td>\n",
       "      <td>(37.8004687042875, -122.431118543788)</td>\n",
       "      <td>15009822628160</td>\n",
       "    </tr>\n",
       "  </tbody>\n",
       "</table>\n",
       "</div>"
      ],
      "text/plain": [
       "   IncidntNum         Category                                   Descript  \\\n",
       "0   150060275     NON-CRIMINAL                              LOST PROPERTY   \n",
       "1   150098210          ROBBERY                      ROBBERY, BODILY FORCE   \n",
       "2   150098210          ASSAULT       AGGRAVATED ASSAULT WITH BODILY FORCE   \n",
       "3   150098210  SECONDARY CODES                          DOMESTIC VIOLENCE   \n",
       "4   150098226        VANDALISM  MALICIOUS MISCHIEF, VANDALISM OF VEHICLES   \n",
       "\n",
       "  DayOfWeek        Date   Time  PdDistrict Resolution  \\\n",
       "0    Monday  01/19/2015  14:00     MISSION       NONE   \n",
       "1    Sunday  02/01/2015  15:45  TENDERLOIN       NONE   \n",
       "2    Sunday  02/01/2015  15:45  TENDERLOIN       NONE   \n",
       "3    Sunday  02/01/2015  15:45  TENDERLOIN       NONE   \n",
       "4   Tuesday  01/27/2015  19:00    NORTHERN       NONE   \n",
       "\n",
       "                       Address           X          Y  \\\n",
       "0        18TH ST / VALENCIA ST -122.421582  37.761701   \n",
       "1  300 Block of LEAVENWORTH ST -122.414406  37.784191   \n",
       "2  300 Block of LEAVENWORTH ST -122.414406  37.784191   \n",
       "3  300 Block of LEAVENWORTH ST -122.414406  37.784191   \n",
       "4       LOMBARD ST / LAGUNA ST -122.431119  37.800469   \n",
       "\n",
       "                                Location            PdId  \n",
       "0   (37.7617007179518, -122.42158168137)  15006027571000  \n",
       "1  (37.7841907151119, -122.414406029855)  15009821003074  \n",
       "2  (37.7841907151119, -122.414406029855)  15009821004014  \n",
       "3  (37.7841907151119, -122.414406029855)  15009821015200  \n",
       "4  (37.8004687042875, -122.431118543788)  15009822628160  "
      ]
     },
     "execution_count": 3,
     "metadata": {},
     "output_type": "execute_result"
    }
   ],
   "source": [
    "df.head()"
   ]
  },
  {
   "cell_type": "markdown",
   "metadata": {},
   "source": [
    "> Mini Exercise:\n",
    ">\n",
    "> * Which columns from the CSV file will you need to work on the topics mentioned above?\n",
    "> * And a little calculation: What is the total number of incidents in the CSV file?"
   ]
  },
  {
   "cell_type": "markdown",
   "metadata": {},
   "source": [
    "*We will need the columns: `Category`, `Descript`, `Date`, `Time`, `PdDistrict`, together with `X` and `Y` for the geo-mapping.*"
   ]
  },
  {
   "cell_type": "code",
   "execution_count": 4,
   "metadata": {},
   "outputs": [
    {
     "data": {
      "text/plain": [
       "(2215024, 13)"
      ]
     },
     "execution_count": 4,
     "metadata": {},
     "output_type": "execute_result"
    }
   ],
   "source": [
    "df.shape"
   ]
  },
  {
   "cell_type": "markdown",
   "metadata": {},
   "source": [
    "There are *__2.215.024__* incidents in the dataset."
   ]
  },
  {
   "cell_type": "markdown",
   "metadata": {},
   "source": [
    "--- \n",
    "\n",
    "In order to do awesome _predictive policing_ later on in the class, we're going to dissect the SF crime-data quite thoroughly to figure out what has been going on over the last 10 years on the San Francisco crime scene. It's going to be a lot of work ... but after mastering these exercises you guys will have some real data science skills!"
   ]
  },
  {
   "cell_type": "markdown",
   "metadata": {},
   "source": [
    ">Exercise: The types of crime and their popularity over time. The first field we'll dig into is the column \"Category\".\n",
    ">1. Use pandas to list and then count all the different categories of crime in the dataset. How many are there?\n",
    ">\n",
    ">\n",
    ">2. Now count the number of occurrences of each category in the dataset. What is the most commonly occurring category of crime? What is the least frequently occurring?\n",
    ">\n",
    ">\n",
    ">3. Create a histogram over crime occurrences. \n",
    ">\n",
    ">\n",
    ">4. Now it's time to explore how the crime statistics change over time. To start off easily, let's count the number of crimes per year for the years 2003-2017 (since we don't have full data for 2018). What's the average number of crimes per year?\n",
    ">\n",
    ">\n",
    ">5. Police chief Suneman is interested in the temporal development of only a subset of categories, the so-called focus crimes. Those categories are listed below (for convenient copy-paste action). Now create bar-charts displaying the year-by-year development of each of these categories across the years 2003-2017.\n",
    ">\n",
    ">\n",
    ">6. Comment on at least three interesting trends in your plot. Also, here's a fun fact: The drop in car thefts is due to new technology called 'engine immobilizer systems'."
   ]
  },
  {
   "cell_type": "markdown",
   "metadata": {},
   "source": [
    "_1. Use pandas to list and then count all the different categories of crime in the dataset. How many are there?_"
   ]
  },
  {
   "cell_type": "code",
   "execution_count": 5,
   "metadata": {},
   "outputs": [
    {
     "data": {
      "text/plain": [
       "array(['NON-CRIMINAL', 'ROBBERY', 'ASSAULT', 'SECONDARY CODES',\n",
       "       'VANDALISM', 'BURGLARY', 'LARCENY/THEFT', 'DRUG/NARCOTIC',\n",
       "       'WARRANTS', 'VEHICLE THEFT', 'OTHER OFFENSES', 'WEAPON LAWS',\n",
       "       'ARSON', 'MISSING PERSON', 'DRIVING UNDER THE INFLUENCE',\n",
       "       'SUSPICIOUS OCC', 'RECOVERED VEHICLE', 'DRUNKENNESS', 'TRESPASS',\n",
       "       'FRAUD', 'DISORDERLY CONDUCT', 'SEX OFFENSES, FORCIBLE',\n",
       "       'FORGERY/COUNTERFEITING', 'KIDNAPPING', 'EMBEZZLEMENT',\n",
       "       'STOLEN PROPERTY', 'LIQUOR LAWS', 'FAMILY OFFENSES', 'LOITERING',\n",
       "       'BAD CHECKS', 'TREA', 'GAMBLING', 'RUNAWAY', 'BRIBERY',\n",
       "       'PROSTITUTION', 'PORNOGRAPHY/OBSCENE MAT',\n",
       "       'SEX OFFENSES, NON FORCIBLE', 'SUICIDE', 'EXTORTION'], dtype=object)"
      ]
     },
     "execution_count": 5,
     "metadata": {},
     "output_type": "execute_result"
    }
   ],
   "source": [
    "df.Category.unique()"
   ]
  },
  {
   "cell_type": "code",
   "execution_count": 6,
   "metadata": {},
   "outputs": [
    {
     "data": {
      "text/plain": [
       "39"
      ]
     },
     "execution_count": 6,
     "metadata": {},
     "output_type": "execute_result"
    }
   ],
   "source": [
    "df.Category.nunique()"
   ]
  },
  {
   "cell_type": "markdown",
   "metadata": {},
   "source": [
    "There are _39_ different types of crimes within this dataset, with the above values."
   ]
  },
  {
   "cell_type": "markdown",
   "metadata": {},
   "source": [
    "_2. Now count the number of occurrences of each category in the dataset. What is the most commonly occurring category of crime? What is the least frequently occurring?_"
   ]
  },
  {
   "cell_type": "code",
   "execution_count": 7,
   "metadata": {},
   "outputs": [
    {
     "data": {
      "text/plain": [
       "LARCENY/THEFT                  480448\n",
       "OTHER OFFENSES                 309358\n",
       "NON-CRIMINAL                   238323\n",
       "ASSAULT                        194694\n",
       "VEHICLE THEFT                  126602\n",
       "DRUG/NARCOTIC                  119628\n",
       "VANDALISM                      116059\n",
       "WARRANTS                       101379\n",
       "BURGLARY                        91543\n",
       "SUSPICIOUS OCC                  80444\n",
       "MISSING PERSON                  64961\n",
       "ROBBERY                         55867\n",
       "FRAUD                           41542\n",
       "SECONDARY CODES                 25831\n",
       "FORGERY/COUNTERFEITING          23050\n",
       "WEAPON LAWS                     22234\n",
       "TRESPASS                        19449\n",
       "PROSTITUTION                    16701\n",
       "STOLEN PROPERTY                 11891\n",
       "SEX OFFENSES, FORCIBLE          11742\n",
       "DISORDERLY CONDUCT              10040\n",
       "DRUNKENNESS                      9826\n",
       "RECOVERED VEHICLE                8716\n",
       "DRIVING UNDER THE INFLUENCE      5672\n",
       "KIDNAPPING                       5346\n",
       "RUNAWAY                          4440\n",
       "LIQUOR LAWS                      4083\n",
       "ARSON                            3931\n",
       "EMBEZZLEMENT                     2988\n",
       "LOITERING                        2430\n",
       "SUICIDE                          1292\n",
       "FAMILY OFFENSES                  1183\n",
       "BAD CHECKS                        925\n",
       "BRIBERY                           813\n",
       "EXTORTION                         741\n",
       "SEX OFFENSES, NON FORCIBLE        431\n",
       "GAMBLING                          348\n",
       "PORNOGRAPHY/OBSCENE MAT            59\n",
       "TREA                               14\n",
       "Name: Category, dtype: int64"
      ]
     },
     "execution_count": 7,
     "metadata": {},
     "output_type": "execute_result"
    }
   ],
   "source": [
    "df.Category.value_counts()"
   ]
  },
  {
   "cell_type": "code",
   "execution_count": 8,
   "metadata": {},
   "outputs": [
    {
     "data": {
      "text/plain": [
       "39"
      ]
     },
     "execution_count": 8,
     "metadata": {},
     "output_type": "execute_result"
    }
   ],
   "source": [
    "len(df.Category.value_counts().index)"
   ]
  },
  {
   "cell_type": "markdown",
   "metadata": {},
   "source": [
    "We did that above. The most commonly occuring crime is 'LARCENY/THEFT' and the least occuring is 'TREA'."
   ]
  },
  {
   "cell_type": "markdown",
   "metadata": {},
   "source": [
    "_3. Create a histogram over crime occurrences._"
   ]
  },
  {
   "cell_type": "code",
   "execution_count": 9,
   "metadata": {},
   "outputs": [
    {
     "data": {
      "text/plain": [
       "[480448,\n",
       " 309358,\n",
       " 238323,\n",
       " 194694,\n",
       " 126602,\n",
       " 119628,\n",
       " 116059,\n",
       " 101379,\n",
       " 91543,\n",
       " 80444,\n",
       " 64961,\n",
       " 55867,\n",
       " 41542,\n",
       " 25831,\n",
       " 23050,\n",
       " 22234,\n",
       " 19449,\n",
       " 16701,\n",
       " 11891,\n",
       " 11742,\n",
       " 10040,\n",
       " 9826,\n",
       " 8716,\n",
       " 5672,\n",
       " 5346,\n",
       " 4440,\n",
       " 4083,\n",
       " 3931,\n",
       " 2988,\n",
       " 2430,\n",
       " 1292,\n",
       " 1183,\n",
       " 925,\n",
       " 813,\n",
       " 741,\n",
       " 431,\n",
       " 348,\n",
       " 59,\n",
       " 14]"
      ]
     },
     "execution_count": 9,
     "metadata": {},
     "output_type": "execute_result"
    }
   ],
   "source": [
    "list(df.Category.value_counts().values)"
   ]
  },
  {
   "cell_type": "code",
   "execution_count": 10,
   "metadata": {},
   "outputs": [
    {
     "data": {
      "image/png": "[encoded data removed]",
      "text/plain": [
       "<Figure size 1008x504 with 1 Axes>"
      ]
     },
     "metadata": {
      "needs_background": "light"
     },
     "output_type": "display_data"
    }
   ],
   "source": [
    "plt.figure(figsize = [14, 7])\n",
    "sb.barplot(x = list(df.Category.value_counts().index), y = list(df.Category.value_counts().values), color = sb.color_palette()[0]);\n",
    "plt.xticks(rotation = 90);\n",
    "plt.margins(x = 0.05);"
   ]
  },
  {
   "cell_type": "markdown",
   "metadata": {},
   "source": [
    "_4. Now it's time to explore how the crime statistics change over time. To start off easily, let's count the number of crimes per year for the years 2003-2017 (since we don't have full data for 2018). What's the average number of crimes per year?_"
   ]
  },
  {
   "cell_type": "code",
   "execution_count": 11,
   "metadata": {},
   "outputs": [],
   "source": [
    "df['Year'] = df.Date.apply(lambda text: text.split('/')[2])"
   ]
  },
  {
   "cell_type": "code",
   "execution_count": 12,
   "metadata": {},
   "outputs": [
    {
     "data": {
      "text/plain": [
       "Year\n",
       "2003    149176\n",
       "2004    148148\n",
       "2005    142186\n",
       "2006    137853\n",
       "2007    137639\n",
       "2008    141311\n",
       "2009    139860\n",
       "2010    133523\n",
       "2011    132697\n",
       "2012    140847\n",
       "2013    152806\n",
       "2014    150128\n",
       "2015    156526\n",
       "2016    150883\n",
       "2017    154773\n",
       "2018     46668\n",
       "Name: IncidntNum, dtype: int64"
      ]
     },
     "execution_count": 12,
     "metadata": {},
     "output_type": "execute_result"
    }
   ],
   "source": [
    "df.groupby(df.Year).IncidntNum.count()"
   ]
  },
  {
   "cell_type": "markdown",
   "metadata": {},
   "source": [
    "_5. Police chief Suneman is interested in the temporal development of only a subset of categories, the so-called focus crimes. Those categories are listed below (for convenient copy-paste action). Now create bar-charts displaying the year-by-year development of each of these categories across the years 2003-2017._"
   ]
  },
  {
   "cell_type": "code",
   "execution_count": 13,
   "metadata": {},
   "outputs": [],
   "source": [
    "focuscrimes = set(['WEAPON LAWS', 'PROSTITUTION', 'DRIVING UNDER THE INFLUENCE', 'ROBBERY', 'BURGLARY', 'ASSAULT', 'DRUNKENNESS', 'DRUG/NARCOTIC', 'TRESPASS', 'LARCENY/THEFT', 'VANDALISM', 'VEHICLE THEFT', 'STOLEN PROPERTY', 'DISORDERLY CONDUCT'])"
   ]
  },
  {
   "cell_type": "code",
   "execution_count": 14,
   "metadata": {},
   "outputs": [
    {
     "data": {
      "text/html": [
       "<div>\n",
       "<style scoped>\n",
       "    .dataframe tbody tr th:only-of-type {\n",
       "        vertical-align: middle;\n",
       "    }\n",
       "\n",
       "    .dataframe tbody tr th {\n",
       "        vertical-align: top;\n",
       "    }\n",
       "\n",
       "    .dataframe thead th {\n",
       "        text-align: right;\n",
       "    }\n",
       "</style>\n",
       "<table border=\"1\" class=\"dataframe\">\n",
       "  <thead>\n",
       "    <tr style=\"text-align: right;\">\n",
       "      <th>Year</th>\n",
       "      <th>2003</th>\n",
       "      <th>2004</th>\n",
       "      <th>2005</th>\n",
       "      <th>2006</th>\n",
       "      <th>2007</th>\n",
       "      <th>2008</th>\n",
       "      <th>2009</th>\n",
       "      <th>2010</th>\n",
       "      <th>2011</th>\n",
       "      <th>2012</th>\n",
       "      <th>2013</th>\n",
       "      <th>2014</th>\n",
       "      <th>2015</th>\n",
       "      <th>2016</th>\n",
       "      <th>2017</th>\n",
       "    </tr>\n",
       "    <tr>\n",
       "      <th>Category</th>\n",
       "      <th></th>\n",
       "      <th></th>\n",
       "      <th></th>\n",
       "      <th></th>\n",
       "      <th></th>\n",
       "      <th></th>\n",
       "      <th></th>\n",
       "      <th></th>\n",
       "      <th></th>\n",
       "      <th></th>\n",
       "      <th></th>\n",
       "      <th></th>\n",
       "      <th></th>\n",
       "      <th></th>\n",
       "      <th></th>\n",
       "    </tr>\n",
       "  </thead>\n",
       "  <tbody>\n",
       "    <tr>\n",
       "      <th>ASSAULT</th>\n",
       "      <td>13461</td>\n",
       "      <td>12899</td>\n",
       "      <td>11601</td>\n",
       "      <td>12449</td>\n",
       "      <td>12518</td>\n",
       "      <td>12681</td>\n",
       "      <td>12284</td>\n",
       "      <td>12387</td>\n",
       "      <td>12279</td>\n",
       "      <td>12181</td>\n",
       "      <td>12580</td>\n",
       "      <td>12402</td>\n",
       "      <td>13115</td>\n",
       "      <td>13603</td>\n",
       "      <td>13655</td>\n",
       "    </tr>\n",
       "    <tr>\n",
       "      <th>BURGLARY</th>\n",
       "      <td>6047</td>\n",
       "      <td>6753</td>\n",
       "      <td>7071</td>\n",
       "      <td>7004</td>\n",
       "      <td>5454</td>\n",
       "      <td>5679</td>\n",
       "      <td>5379</td>\n",
       "      <td>4966</td>\n",
       "      <td>4987</td>\n",
       "      <td>6243</td>\n",
       "      <td>6195</td>\n",
       "      <td>6066</td>\n",
       "      <td>5931</td>\n",
       "      <td>5813</td>\n",
       "      <td>5857</td>\n",
       "    </tr>\n",
       "    <tr>\n",
       "      <th>DISORDERLY CONDUCT</th>\n",
       "      <td>886</td>\n",
       "      <td>814</td>\n",
       "      <td>687</td>\n",
       "      <td>521</td>\n",
       "      <td>581</td>\n",
       "      <td>789</td>\n",
       "      <td>956</td>\n",
       "      <td>827</td>\n",
       "      <td>762</td>\n",
       "      <td>704</td>\n",
       "      <td>464</td>\n",
       "      <td>345</td>\n",
       "      <td>551</td>\n",
       "      <td>659</td>\n",
       "      <td>399</td>\n",
       "    </tr>\n",
       "    <tr>\n",
       "      <th>DRIVING UNDER THE INFLUENCE</th>\n",
       "      <td>289</td>\n",
       "      <td>244</td>\n",
       "      <td>196</td>\n",
       "      <td>266</td>\n",
       "      <td>313</td>\n",
       "      <td>408</td>\n",
       "      <td>579</td>\n",
       "      <td>458</td>\n",
       "      <td>470</td>\n",
       "      <td>421</td>\n",
       "      <td>448</td>\n",
       "      <td>381</td>\n",
       "      <td>430</td>\n",
       "      <td>378</td>\n",
       "      <td>299</td>\n",
       "    </tr>\n",
       "    <tr>\n",
       "      <th>DRUG/NARCOTIC</th>\n",
       "      <td>9917</td>\n",
       "      <td>9897</td>\n",
       "      <td>8533</td>\n",
       "      <td>9069</td>\n",
       "      <td>10560</td>\n",
       "      <td>11648</td>\n",
       "      <td>11950</td>\n",
       "      <td>9205</td>\n",
       "      <td>6935</td>\n",
       "      <td>6444</td>\n",
       "      <td>6775</td>\n",
       "      <td>5408</td>\n",
       "      <td>4251</td>\n",
       "      <td>4246</td>\n",
       "      <td>3308</td>\n",
       "    </tr>\n",
       "    <tr>\n",
       "      <th>DRUNKENNESS</th>\n",
       "      <td>662</td>\n",
       "      <td>600</td>\n",
       "      <td>636</td>\n",
       "      <td>703</td>\n",
       "      <td>671</td>\n",
       "      <td>710</td>\n",
       "      <td>804</td>\n",
       "      <td>706</td>\n",
       "      <td>652</td>\n",
       "      <td>644</td>\n",
       "      <td>954</td>\n",
       "      <td>620</td>\n",
       "      <td>576</td>\n",
       "      <td>465</td>\n",
       "      <td>339</td>\n",
       "    </tr>\n",
       "    <tr>\n",
       "      <th>LARCENY/THEFT</th>\n",
       "      <td>26393</td>\n",
       "      <td>24505</td>\n",
       "      <td>25319</td>\n",
       "      <td>27352</td>\n",
       "      <td>25770</td>\n",
       "      <td>25807</td>\n",
       "      <td>25585</td>\n",
       "      <td>24446</td>\n",
       "      <td>25905</td>\n",
       "      <td>30976</td>\n",
       "      <td>36412</td>\n",
       "      <td>38003</td>\n",
       "      <td>42068</td>\n",
       "      <td>40449</td>\n",
       "      <td>47826</td>\n",
       "    </tr>\n",
       "    <tr>\n",
       "      <th>PROSTITUTION</th>\n",
       "      <td>1952</td>\n",
       "      <td>1527</td>\n",
       "      <td>1103</td>\n",
       "      <td>1290</td>\n",
       "      <td>1873</td>\n",
       "      <td>1673</td>\n",
       "      <td>1468</td>\n",
       "      <td>1299</td>\n",
       "      <td>1094</td>\n",
       "      <td>690</td>\n",
       "      <td>692</td>\n",
       "      <td>449</td>\n",
       "      <td>374</td>\n",
       "      <td>642</td>\n",
       "      <td>527</td>\n",
       "    </tr>\n",
       "    <tr>\n",
       "      <th>ROBBERY</th>\n",
       "      <td>3204</td>\n",
       "      <td>3380</td>\n",
       "      <td>3566</td>\n",
       "      <td>4131</td>\n",
       "      <td>4027</td>\n",
       "      <td>4229</td>\n",
       "      <td>3578</td>\n",
       "      <td>3324</td>\n",
       "      <td>3376</td>\n",
       "      <td>3955</td>\n",
       "      <td>4196</td>\n",
       "      <td>3420</td>\n",
       "      <td>3759</td>\n",
       "      <td>3300</td>\n",
       "      <td>3351</td>\n",
       "    </tr>\n",
       "    <tr>\n",
       "      <th>STOLEN PROPERTY</th>\n",
       "      <td>800</td>\n",
       "      <td>641</td>\n",
       "      <td>540</td>\n",
       "      <td>575</td>\n",
       "      <td>527</td>\n",
       "      <td>518</td>\n",
       "      <td>660</td>\n",
       "      <td>680</td>\n",
       "      <td>785</td>\n",
       "      <td>932</td>\n",
       "      <td>1224</td>\n",
       "      <td>1084</td>\n",
       "      <td>959</td>\n",
       "      <td>883</td>\n",
       "      <td>820</td>\n",
       "    </tr>\n",
       "    <tr>\n",
       "      <th>TRESPASS</th>\n",
       "      <td>1434</td>\n",
       "      <td>1191</td>\n",
       "      <td>1034</td>\n",
       "      <td>1102</td>\n",
       "      <td>1198</td>\n",
       "      <td>1151</td>\n",
       "      <td>1232</td>\n",
       "      <td>1150</td>\n",
       "      <td>1072</td>\n",
       "      <td>1288</td>\n",
       "      <td>1129</td>\n",
       "      <td>1125</td>\n",
       "      <td>1403</td>\n",
       "      <td>1813</td>\n",
       "      <td>1613</td>\n",
       "    </tr>\n",
       "    <tr>\n",
       "      <th>VANDALISM</th>\n",
       "      <td>6448</td>\n",
       "      <td>6496</td>\n",
       "      <td>7013</td>\n",
       "      <td>7688</td>\n",
       "      <td>7566</td>\n",
       "      <td>7342</td>\n",
       "      <td>7604</td>\n",
       "      <td>7934</td>\n",
       "      <td>7243</td>\n",
       "      <td>7808</td>\n",
       "      <td>6921</td>\n",
       "      <td>7165</td>\n",
       "      <td>7675</td>\n",
       "      <td>8595</td>\n",
       "      <td>9765</td>\n",
       "    </tr>\n",
       "    <tr>\n",
       "      <th>VEHICLE THEFT</th>\n",
       "      <td>15325</td>\n",
       "      <td>17884</td>\n",
       "      <td>18194</td>\n",
       "      <td>7291</td>\n",
       "      <td>6460</td>\n",
       "      <td>6053</td>\n",
       "      <td>5183</td>\n",
       "      <td>4346</td>\n",
       "      <td>4762</td>\n",
       "      <td>6183</td>\n",
       "      <td>6241</td>\n",
       "      <td>7108</td>\n",
       "      <td>7943</td>\n",
       "      <td>6422</td>\n",
       "      <td>5732</td>\n",
       "    </tr>\n",
       "    <tr>\n",
       "      <th>WEAPON LAWS</th>\n",
       "      <td>1281</td>\n",
       "      <td>1252</td>\n",
       "      <td>1341</td>\n",
       "      <td>1324</td>\n",
       "      <td>1318</td>\n",
       "      <td>1419</td>\n",
       "      <td>1433</td>\n",
       "      <td>1349</td>\n",
       "      <td>1329</td>\n",
       "      <td>1455</td>\n",
       "      <td>1535</td>\n",
       "      <td>1580</td>\n",
       "      <td>1650</td>\n",
       "      <td>1659</td>\n",
       "      <td>1690</td>\n",
       "    </tr>\n",
       "  </tbody>\n",
       "</table>\n",
       "</div>"
      ],
      "text/plain": [
       "Year                          2003   2004   2005   2006   2007   2008   2009  \\\n",
       "Category                                                                       \n",
       "ASSAULT                      13461  12899  11601  12449  12518  12681  12284   \n",
       "BURGLARY                      6047   6753   7071   7004   5454   5679   5379   \n",
       "DISORDERLY CONDUCT             886    814    687    521    581    789    956   \n",
       "DRIVING UNDER THE INFLUENCE    289    244    196    266    313    408    579   \n",
       "DRUG/NARCOTIC                 9917   9897   8533   9069  10560  11648  11950   \n",
       "DRUNKENNESS                    662    600    636    703    671    710    804   \n",
       "LARCENY/THEFT                26393  24505  25319  27352  25770  25807  25585   \n",
       "PROSTITUTION                  1952   1527   1103   1290   1873   1673   1468   \n",
       "ROBBERY                       3204   3380   3566   4131   4027   4229   3578   \n",
       "STOLEN PROPERTY                800    641    540    575    527    518    660   \n",
       "TRESPASS                      1434   1191   1034   1102   1198   1151   1232   \n",
       "VANDALISM                     6448   6496   7013   7688   7566   7342   7604   \n",
       "VEHICLE THEFT                15325  17884  18194   7291   6460   6053   5183   \n",
       "WEAPON LAWS                   1281   1252   1341   1324   1318   1419   1433   \n",
       "\n",
       "Year                          2010   2011   2012   2013   2014   2015   2016  \\\n",
       "Category                                                                       \n",
       "ASSAULT                      12387  12279  12181  12580  12402  13115  13603   \n",
       "BURGLARY                      4966   4987   6243   6195   6066   5931   5813   \n",
       "DISORDERLY CONDUCT             827    762    704    464    345    551    659   \n",
       "DRIVING UNDER THE INFLUENCE    458    470    421    448    381    430    378   \n",
       "DRUG/NARCOTIC                 9205   6935   6444   6775   5408   4251   4246   \n",
       "DRUNKENNESS                    706    652    644    954    620    576    465   \n",
       "LARCENY/THEFT                24446  25905  30976  36412  38003  42068  40449   \n",
       "PROSTITUTION                  1299   1094    690    692    449    374    642   \n",
       "ROBBERY                       3324   3376   3955   4196   3420   3759   3300   \n",
       "STOLEN PROPERTY                680    785    932   1224   1084    959    883   \n",
       "TRESPASS                      1150   1072   1288   1129   1125   1403   1813   \n",
       "VANDALISM                     7934   7243   7808   6921   7165   7675   8595   \n",
       "VEHICLE THEFT                 4346   4762   6183   6241   7108   7943   6422   \n",
       "WEAPON LAWS                   1349   1329   1455   1535   1580   1650   1659   \n",
       "\n",
       "Year                          2017  \n",
       "Category                            \n",
       "ASSAULT                      13655  \n",
       "BURGLARY                      5857  \n",
       "DISORDERLY CONDUCT             399  \n",
       "DRIVING UNDER THE INFLUENCE    299  \n",
       "DRUG/NARCOTIC                 3308  \n",
       "DRUNKENNESS                    339  \n",
       "LARCENY/THEFT                47826  \n",
       "PROSTITUTION                   527  \n",
       "ROBBERY                       3351  \n",
       "STOLEN PROPERTY                820  \n",
       "TRESPASS                      1613  \n",
       "VANDALISM                     9765  \n",
       "VEHICLE THEFT                 5732  \n",
       "WEAPON LAWS                   1690  "
      ]
     },
     "execution_count": 14,
     "metadata": {},
     "output_type": "execute_result"
    }
   ],
   "source": [
    "df_grouped = df[df.Category.isin(focuscrimes)].groupby(['Category', 'Year']).size().unstack()\n",
    "df_grouped.drop(columns = ['2018'], inplace = True)\n",
    "df_grouped"
   ]
  },
  {
   "cell_type": "code",
   "execution_count": 45,
   "metadata": {},
   "outputs": [
    {
     "data": {
      "image/png": "[encoded data removed]",
      "text/plain": [
       "<Figure size 1368x1440 with 14 Axes>"
      ]
     },
     "metadata": {
      "needs_background": "light"
     },
     "output_type": "display_data"
    }
   ],
   "source": [
    "fig = plt.figure(figsize=(19, 20))\n",
    "\n",
    "for plot_index in range(1, 15):\n",
    "    # Creating a subplot placeholder corresponding to a category\n",
    "    fig = plt.subplot(7, 2, plot_index)\n",
    "    # Make a space between the different rows of plots\n",
    "    plt.subplots_adjust(hspace = 0.55)\n",
    "\n",
    "    # P.S. I can of course remove the labels from all but the last 2 plots, and make the x-axis year labels show from 2 to 2 years, however I kept this style, since I believe it is more beautiful this way\n",
    "    \n",
    "    ax = sb.barplot(x = df_grouped.iloc[plot_index - 1].index, y = df_grouped.iloc[plot_index - 1].values, color = sb.color_palette()[0])\n",
    "    plt.margins(y = 0.25, x = 0.05) # set the inner margins between plot values and plot\n",
    "    plt.title(df_grouped.iloc[plot_index - 1].name, y = 0.80, x = 0.05, loc = 'left') # set indentation 'left' and x, y added/subtracted, compared to the default values"
   ]
  },
  {
   "cell_type": "code",
   "execution_count": 50,
   "metadata": {},
   "outputs": [
    {
     "data": {
      "text/plain": [
       "Year\n",
       "2005    11601\n",
       "2012    12181\n",
       "2011    12279\n",
       "2009    12284\n",
       "2010    12387\n",
       "2014    12402\n",
       "2006    12449\n",
       "2007    12518\n",
       "2013    12580\n",
       "2008    12681\n",
       "2004    12899\n",
       "2015    13115\n",
       "2003    13461\n",
       "2016    13603\n",
       "2017    13655\n",
       "Name: ASSAULT, dtype: int64"
      ]
     },
     "execution_count": 50,
     "metadata": {},
     "output_type": "execute_result"
    }
   ],
   "source": [
    "df_grouped.loc['ASSAULT'].sort_values()"
   ]
  },
  {
   "cell_type": "markdown",
   "metadata": {},
   "source": [
    "*6. Comment on at least three interesting trends in your plot. Also, here's a fun fact: The drop in car thefts is due to new technology called 'engine immobilizer systems'.*"
   ]
  },
  {
   "cell_type": "markdown",
   "metadata": {},
   "source": [
    "_We can see many interesting trends in the plots, out of which we will mention:_\n",
    "* The number of assault cases has been almost constant throughout the whole period from 2003 to 2017, with a maximum deviation of 2000 cases over the years.\n",
    "* Vehicle thefts dropped significantly from almost 20000 cases/year in __2005__ to 5000-7000 cases/year in all years __after 2005__.\n",
    "* Both Prostitution and Drug/Narcotic usage cases have been constantly dropping significantly after **2010**."
   ]
  },
  {
   "cell_type": "markdown",
   "metadata": {},
   "source": [
    "There's much more to work on in this dataset (for example, I also explored if certain crimes tend to happen on certain week-days ... also some interesting patterns there!), but we have lots to do, so we must rush onwards.\n",
    "\n",
    "The next thing we'll be looking into is how crimes break down across the 10 districts in San Francisco."
   ]
  },
  {
   "cell_type": "markdown",
   "metadata": {},
   "source": [
    ">Exercises: The types of crime and how they take place across San Francisco's police districts.\n",
    ">\n",
    ">\n",
    "> 7. So now we'll be combining information about `PdDistrict` and `Category` to explore differences between SF's neighborhoods. First, simply list the names of SF's 10 police districts.\n",
    ">\n",
    ">\n",
    "> 8. Which has the most crimes? Which has the most focus crimes?\n",
    ">\n",
    ">\n",
    "> 9. Next, we want to generate a slightly more complicated graphic. I'm interested to know if there are certain crimes that happen much more in certain neighborhoods than what's typical. Below I describe how to get that plot going:\n",
    ">\n",
    ">\n",
    ">    * 9.1. First, we need to calculate the relative probabilities of seeing each type of crime in the dataset as a whole. Let's call it `P(crime)`.\n",
    ">\n",
    ">\n",
    ">    * 9.2. Next, we calculate that same probability distribution but for each PD district. Let's call that `P(crime|district)`.\n",
    ">\n",
    ">\n",
    ">    * 9.3. Now we look at the ratio `P(crime|district)` **/** `P(crime)`. That ratio is equal to 1 if the crime occurs at the same level within a district as in the city as a whole. If it's greater than one, it means that the crime occurs _more frequently_ within that district. If it's smaller than one, it means that the crime is _rarer_ within the district in question than in the city as a whole.\n",
    ">\n",
    ">\n",
    ">    * 9.4. For each district plot these ratios for the 14 focus crimes.\n",
    ">\n",
    ">\n",
    ">    * 9.5. Comment on the top crimes in Tenderloin, Mission, and Richmond. Does this fit with the impression you get of these neighborhoods on Wikipedia?"
   ]
  },
  {
   "cell_type": "markdown",
   "metadata": {},
   "source": [
    "_7. So now we'll be combining information about `PdDistrict` and `Category` to explore differences between SF's neighborhoods. First, simply list the names of SF's 10 police districts._"
   ]
  },
  {
   "cell_type": "code",
   "execution_count": 55,
   "metadata": {},
   "outputs": [
    {
     "data": {
      "text/plain": [
       "array(['MISSION', 'TENDERLOIN', 'NORTHERN', 'RICHMOND', 'BAYVIEW',\n",
       "       'CENTRAL', 'PARK', 'TARAVAL', 'SOUTHERN', 'INGLESIDE', nan],\n",
       "      dtype=object)"
      ]
     },
     "execution_count": 55,
     "metadata": {},
     "output_type": "execute_result"
    }
   ],
   "source": [
    "df.PdDistrict.unique()"
   ]
  },
  {
   "cell_type": "markdown",
   "metadata": {},
   "source": [
    "_8. Which has the most crimes? Which has the most focus crimes?_"
   ]
  },
  {
   "cell_type": "code",
   "execution_count": 63,
   "metadata": {},
   "outputs": [
    {
     "data": {
      "text/plain": [
       "PdDistrict\n",
       "SOUTHERN      399785\n",
       "MISSION       300076\n",
       "NORTHERN      272713\n",
       "CENTRAL       226255\n",
       "BAYVIEW       221000\n",
       "INGLESIDE     194180\n",
       "TENDERLOIN    191746\n",
       "TARAVAL       166971\n",
       "PARK          125479\n",
       "RICHMOND      116818\n",
       "Name: Category, dtype: int64"
      ]
     },
     "execution_count": 63,
     "metadata": {},
     "output_type": "execute_result"
    }
   ],
   "source": [
    "df.groupby('PdDistrict')['Category'].count().sort_values(ascending = False)"
   ]
  },
  {
   "cell_type": "code",
   "execution_count": 64,
   "metadata": {},
   "outputs": [
    {
     "data": {
      "text/plain": [
       "PdDistrict\n",
       "SOUTHERN      231125\n",
       "NORTHERN      175525\n",
       "MISSION       167757\n",
       "CENTRAL       142378\n",
       "BAYVIEW       118026\n",
       "TENDERLOIN    108085\n",
       "INGLESIDE     107654\n",
       "TARAVAL        92254\n",
       "PARK           69397\n",
       "RICHMOND       68452\n",
       "Name: Category, dtype: int64"
      ]
     },
     "execution_count": 64,
     "metadata": {},
     "output_type": "execute_result"
    }
   ],
   "source": [
    "df[df.Category.isin(focuscrimes)].groupby('PdDistrict')['Category'].count().sort_values(ascending = False)"
   ]
  },
  {
   "cell_type": "markdown",
   "metadata": {},
   "source": [
    "_Southern_ district has both most number of crimes and of focus crimes."
   ]
  },
  {
   "cell_type": "markdown",
   "metadata": {},
   "source": [
    "_9. Next, we want to generate a slightly more complicated graphic. I'm interested to know if there are certain crimes that happen much more in certain neighborhoods than what's typical. Below I describe how to get that plot going:_"
   ]
  },
  {
   "cell_type": "markdown",
   "metadata": {},
   "source": [
    "_9.1. First, we need to calculate the relative probabilities of seeing each type of crime in the dataset as a whole. Let's call it `P(crime)`._"
   ]
  },
  {
   "cell_type": "code",
   "execution_count": 361,
   "metadata": {},
   "outputs": [
    {
     "name": "stderr",
     "output_type": "stream",
     "text": [
      "C:\\Users\\XPS\\Anaconda3\\lib\\site-packages\\ipykernel_launcher.py:5: FutureWarning: set_value is deprecated and will be removed in a future release. Please use .at[] or .iat[] accessors instead\n",
      "  \"\"\"\n"
     ]
    },
    {
     "name": "stdout",
     "output_type": "stream",
     "text": [
      "P(NON-CRIMINAL) = 0.10759386805741157\n",
      "P(ROBBERY) = 0.02522184861202407\n",
      "P(ASSAULT) = 0.08789701601427344\n",
      "P(SECONDARY CODES) = 0.011661724658513858\n",
      "P(VANDALISM) = 0.052396272004276254\n",
      "P(BURGLARY) = 0.041328220371427124\n",
      "P(LARCENY/THEFT) = 0.21690419607191616\n",
      "P(DRUG/NARCOTIC) = 0.05400754122754426\n",
      "P(WARRANTS) = 0.04576880431092394\n",
      "P(VEHICLE THEFT) = 0.05715603984426354\n",
      "P(OTHER OFFENSES) = 0.13966349800273045\n",
      "P(WEAPON LAWS) = 0.01003781448869177\n",
      "P(ARSON) = 0.0017746986037171606\n",
      "P(MISSING PERSON) = 0.02932744746783782\n",
      "P(DRIVING UNDER THE INFLUENCE) = 0.0025606946019546516\n",
      "P(SUSPICIOUS OCC) = 0.036317439449866006\n",
      "P(RECOVERED VEHICLE) = 0.003934946077333699\n",
      "P(DRUNKENNESS) = 0.004436069315727505\n",
      "P(TRESPASS) = 0.008780491768937944\n",
      "P(FRAUD) = 0.018754650062482392\n",
      "P(DISORDERLY CONDUCT) = 0.0045326822643908145\n",
      "P(SEX OFFENSES, FORCIBLE) = 0.005301071229927983\n",
      "P(FORGERY/COUNTERFEITING) = 0.010406207788267757\n",
      "P(KIDNAPPING) = 0.0024135178670750294\n",
      "P(EMBEZZLEMENT) = 0.0013489695822708919\n",
      "P(STOLEN PROPERTY) = 0.005368339124090755\n",
      "P(LIQUOR LAWS) = 0.0018433208850107267\n",
      "P(FAMILY OFFENSES) = 0.0005340799919097942\n",
      "P(LOITERING) = 0.0010970535759431952\n",
      "P(BAD CHECKS) = 0.00041760269866150435\n",
      "P(TREA) = 6.320473277038985e-06\n",
      "P(GAMBLING) = 0.0001571089071721119\n",
      "P(RUNAWAY) = 0.002004492953575221\n",
      "P(BRIBERY) = 0.00036703891244519246\n",
      "P(PROSTITUTION) = 0.0075398731571305775\n",
      "P(PORNOGRAPHY/OBSCENE MAT) = 2.6636280238950007e-05\n",
      "P(SEX OFFENSES, NON FORCIBLE) = 0.00019458028445741446\n",
      "P(SUICIDE) = 0.000583289390995312\n",
      "P(EXTORTION) = 0.0003345336213061348\n"
     ]
    }
   ],
   "source": [
    "p_crime = pd.Series()\n",
    "\n",
    "for category in df.Category.unique():\n",
    "    # We will store in p_crime the probability as value and the crime category as index\n",
    "    p_crime.set_value(category, len(df[df.Category == category]) / len(df))\n",
    "    \n",
    "    print('P(' + str(category) + ') = ' + str(len(df[df.Category == category]) / len(df)))\n",
    "    \n",
    "p_crime.sort_index(inplace = True)"
   ]
  },
  {
   "cell_type": "code",
   "execution_count": 174,
   "metadata": {},
   "outputs": [
    {
     "data": {
      "text/plain": [
       "1.0"
      ]
     },
     "execution_count": 174,
     "metadata": {},
     "output_type": "execute_result"
    }
   ],
   "source": [
    "# Check to see whether all the probabilities of the values were correctly computed, then the total probability should be 1.0\n",
    "p_crime.sort_values().sum()"
   ]
  },
  {
   "cell_type": "markdown",
   "metadata": {},
   "source": [
    "_9.2. Next, we calculate that same probability distribution but for each PD district. Let's call that P(crime|district)._"
   ]
  },
  {
   "cell_type": "code",
   "execution_count": 451,
   "metadata": {
    "scrolled": true
   },
   "outputs": [],
   "source": [
    "df_grouped_district = df.groupby(['Category', 'PdDistrict']).size()\n",
    "\n",
    "p_crime_by_district = pd.Series()\n",
    "p_crime_by_district = p_crime_by_district.reindex(df_grouped_district.index)\n",
    "p_crime_by_district = p_crime_by_district.fillna(0.00)\n",
    "\n",
    "for category_and_district_index in df_grouped_district.index:\n",
    "    # category_and_district_index[0] is the CATEGORY and category_and_district_index[1] is the DISTRICT\n",
    "    crime_cat_by_district = df_grouped_district.xs(category_and_district_index[0])\n",
    "    \n",
    "    p_crime_by_district.xs(category_and_district_index[0])[category_and_district_index[1]] = (crime_cat_by_district[category_and_district_index[1]]) / (df.groupby(['PdDistrict']).size()[category_and_district_index[1]])"
   ]
  },
  {
   "cell_type": "markdown",
   "metadata": {},
   "source": [
    "_9.3. Now we look at the ratio P(crime|district) / P(crime). That ratio is equal to 1 if the crime occurs at the same level within a district as in the city as a whole. If it's greater than one, it means that the crime occurs more frequently within that district. If it's smaller than one, it means that the crime is rarer within the district in question than in the city as a whole._"
   ]
  },
  {
   "cell_type": "code",
   "execution_count": 466,
   "metadata": {},
   "outputs": [],
   "source": [
    "ratio_crime_by_district = pd.Series()\n",
    "ratio_crime_by_district = ratio_crime_by_district.reindex(p_crime_by_district.index)\n",
    "ratio_crime_by_district = ratio_crime_by_district.fillna(0.00)\n",
    "\n",
    "for category_and_district_index in p_crime_by_district.index:\n",
    "    \n",
    "    # category_and_district_index[0] is the CATEGORY and category_and_district_index[1] is the DISTRICT\n",
    "    ratio_crime_by_district.xs(category_and_district_index[0])[category_and_district_index[1]] = p_crime_by_district.xs(category_and_district_index[0])[category_and_district_index[1]] / p_crime[category_and_district_index[0]]"
   ]
  },
  {
   "cell_type": "markdown",
   "metadata": {},
   "source": [
    "_9.4. For each district plot these ratios for the 14 focus crimes._"
   ]
  },
  {
   "cell_type": "code",
   "execution_count": 467,
   "metadata": {},
   "outputs": [],
   "source": [
    "# First, we will need swap indexes, so that DISTRICT is the first level and CATEGORY is the inner one\n",
    "# This helps us easily create a plot through iterating between each DISTRICT type, and having all crime category probabilities sorted and available\n",
    "\n",
    "ratio_crime_by_district = ratio_crime_by_district.swaplevel().sort_index()"
   ]
  },
  {
   "cell_type": "code",
   "execution_count": 468,
   "metadata": {},
   "outputs": [
    {
     "data": {
      "image/png": "[encoded data removed]",
      "text/plain": [
       "<Figure size 1368x1022.4 with 10 Axes>"
      ]
     },
     "metadata": {
      "needs_background": "light"
     },
     "output_type": "display_data"
    }
   ],
   "source": [
    "fig = plt.figure(figsize=(19, 14.2))\n",
    "\n",
    "for plot_index in range(1, 11):\n",
    "    # Creating a subplot placeholder corresponding to a category\n",
    "    fig = plt.subplot(5, 2, plot_index)\n",
    "    # Make a space between the different rows of plots\n",
    "    plt.subplots_adjust(hspace = 0.20)\n",
    "    \n",
    "    district = pd.Series(df.PdDistrict.dropna().unique()).sort_values().values[plot_index - 1]\n",
    "    ratio_crime_names = ratio_crime_by_district.xs(district).loc[ratio_crime_by_district.xs(district).index.isin(focuscrimes)].index\n",
    "    ratio_values = ratio_crime_by_district.xs(district).loc[ratio_crime_by_district.xs(district).index.isin(focuscrimes)].values\n",
    "    \n",
    "    ax = sb.barplot(x = ratio_crime_names, y = ratio_values, color = sb.color_palette()[0])\n",
    "    \n",
    "    if ((plot_index != 10) & (plot_index != 9)): # if the plot is not on the last row, don't show its x-axis ticks\n",
    "        ax.set_xticklabels(' ')\n",
    "        \n",
    "    plt.margins(y = 0.17, x = 0.05) # set the inner margins between plot values and plot\n",
    "    plt.title(district, y = 0.80, x = 0.05, loc = 'left') # set indentation 'left' and x, y added/subtracted, compared to the default values\n",
    "    plt.xticks(rotation = 90)"
   ]
  },
  {
   "cell_type": "markdown",
   "metadata": {},
   "source": [
    "_9.5. Comment on the top crimes in Tenderloin, Mission, and Richmond. Does this fit with the impression you get of these neighborhoods on Wikipedia?_"
   ]
  },
  {
   "cell_type": "markdown",
   "metadata": {},
   "source": [
    "The top crime in Tenderloin is _Drugs/Narcotics_, in Mission it is _prostitution_, and in Richmond it is _Driving under influence_."
   ]
  },
  {
   "cell_type": "markdown",
   "metadata": {},
   "source": [
    "__Comment:__ Notice how much awesome datascience (i.e. learning about interesting real-world crime patterns) we can get out by simply counting and plotting (and looking at ratios). Pretty great, right?"
   ]
  }
 ],
 "metadata": {
  "kernelspec": {
   "display_name": "Python 3",
   "language": "python",
   "name": "python3"
  },
  "language_info": {
   "codemirror_mode": {
    "name": "ipython",
    "version": 3
   },
   "file_extension": ".py",
   "mimetype": "text/x-python",
   "name": "python",
   "nbconvert_exporter": "python",
   "pygments_lexer": "ipython3",
   "version": "3.7.1"
  }
 },
 "nbformat": 4,
 "nbformat_minor": 2
}
