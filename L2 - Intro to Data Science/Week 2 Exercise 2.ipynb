{
 "cells": [
  {
   "cell_type": "markdown",
   "metadata": {},
   "source": [
    "**Part 2: A little visualization exercise**\n",
    "\n",
    "Start by downloading these four datasets: Data 1, Data 2, Data 3, and Data 4. The format is .tsv, which stands for tab separated values. Each file has two columns (separated using the tab character). The first column is x-values, and the second column is y-values."
   ]
  },
  {
   "cell_type": "code",
   "execution_count": 1,
   "metadata": {},
   "outputs": [],
   "source": [
    "import urllib3\n",
    "import numpy as np\n",
    "import pandas as pd\n",
    "from io import StringIO\n",
    "from scipy import stats\n",
    "import matplotlib.pyplot as plt"
   ]
  },
  {
   "cell_type": "code",
   "execution_count": 2,
   "metadata": {},
   "outputs": [
    {
     "name": "stderr",
     "output_type": "stream",
     "text": [
      "C:\\Users\\XPS\\Anaconda3\\lib\\site-packages\\urllib3\\connectionpool.py:847: InsecureRequestWarning: Unverified HTTPS request is being made. Adding certificate verification is strongly advised. See: https://urllib3.readthedocs.io/en/latest/advanced-usage.html#ssl-warnings\n",
      "  InsecureRequestWarning)\n",
      "C:\\Users\\XPS\\Anaconda3\\lib\\site-packages\\urllib3\\connectionpool.py:847: InsecureRequestWarning: Unverified HTTPS request is being made. Adding certificate verification is strongly advised. See: https://urllib3.readthedocs.io/en/latest/advanced-usage.html#ssl-warnings\n",
      "  InsecureRequestWarning)\n"
     ]
    },
    {
     "name": "stdout",
     "output_type": "stream",
     "text": [
      "200\n",
      "dataset1:\n",
      "10\t8.04\n",
      "8\t6.95\n",
      "13\t7.58\n",
      "9\t8.81\n",
      "11\t8.33\n",
      "14\t9.96\n",
      "6\t7.24\n",
      "4\t4.26\n",
      "12\t10.84\n",
      "7\t4.82\n",
      "5\t5.68\n",
      "200\n",
      "dataset2:\n",
      "10\t9.14\n",
      "8\t8.14\n",
      "13\t8.74\n",
      "9\t8.77\n",
      "11\t9.26\n",
      "14\t8.1\n",
      "6\t6.13\n",
      "4\t3.1\n",
      "12\t9.13\n",
      "7\t7.26\n",
      "5\t4.74\n"
     ]
    },
    {
     "name": "stderr",
     "output_type": "stream",
     "text": [
      "C:\\Users\\XPS\\Anaconda3\\lib\\site-packages\\urllib3\\connectionpool.py:847: InsecureRequestWarning: Unverified HTTPS request is being made. Adding certificate verification is strongly advised. See: https://urllib3.readthedocs.io/en/latest/advanced-usage.html#ssl-warnings\n",
      "  InsecureRequestWarning)\n",
      "C:\\Users\\XPS\\Anaconda3\\lib\\site-packages\\urllib3\\connectionpool.py:847: InsecureRequestWarning: Unverified HTTPS request is being made. Adding certificate verification is strongly advised. See: https://urllib3.readthedocs.io/en/latest/advanced-usage.html#ssl-warnings\n",
      "  InsecureRequestWarning)\n"
     ]
    },
    {
     "name": "stdout",
     "output_type": "stream",
     "text": [
      "200\n",
      "dataset3:\n",
      "10\t7.46\n",
      "8\t6.77\n",
      "13\t12.74\n",
      "9\t7.11\n",
      "11\t7.81\n",
      "14\t8.84\n",
      "6\t6.08\n",
      "4\t5.39\n",
      "12\t8.15\n",
      "7\t6.42\n",
      "5\t5.73\n",
      "200\n",
      "dataset4:\n",
      "8\t6.58\n",
      "8\t5.76\n",
      "8\t7.71\n",
      "8\t8.84\n",
      "8\t8.47\n",
      "8\t7.04\n",
      "8\t5.25\n",
      "19\t12.5\n",
      "8\t5.56\n",
      "8\t7.91\n",
      "8\t6.89\n"
     ]
    }
   ],
   "source": [
    "http = urllib3.PoolManager() # prepare manager to download datasets https://urllib3.readthedocs.io/en/latest/\n",
    "\n",
    "#download first dataset\n",
    "r = http.request('GET', 'https://raw.githubusercontent.com/suneman/socialdataanalysis2019/master/files/data1.tsv')\n",
    "print(r.status)\n",
    "dataset1 = r.data.decode(\"utf-8\")\n",
    "print(\"dataset1:\")\n",
    "print(dataset1)\n",
    "\n",
    "dataset1 = StringIO(dataset1) # convert to a pandas-readable format\n",
    "\n",
    "#download second dataset\n",
    "r = http.request('GET', 'https://raw.githubusercontent.com/suneman/socialdataanalysis2019/master/files/data2.tsv')\n",
    "print(r.status)\n",
    "dataset2 = r.data.decode(\"utf-8\")\n",
    "print(\"dataset2:\")\n",
    "print(dataset2)\n",
    "\n",
    "dataset2 = StringIO(dataset2) # convert to a pandas-readable format\n",
    "\n",
    "#download third dataset\n",
    "r = http.request('GET', 'https://raw.githubusercontent.com/suneman/socialdataanalysis2019/master/files/data3.tsv')\n",
    "print(r.status)\n",
    "dataset3 = r.data.decode(\"utf-8\")\n",
    "print(\"dataset3:\") \n",
    "print(dataset3)\n",
    "\n",
    "dataset3 = StringIO(dataset3) # convert to a pandas-readable format\n",
    "\n",
    "#download fourth dataset\n",
    "r = http.request('GET', 'https://raw.githubusercontent.com/suneman/socialdataanalysis2019/master/files/data4.tsv')\n",
    "print(r.status)\n",
    "dataset4 = r.data.decode(\"utf-8\")\n",
    "print(\"dataset4:\")\n",
    "print(dataset4)\n",
    "\n",
    "dataset4 = StringIO(dataset4) # convert to a pandas-readable format"
   ]
  },
  {
   "cell_type": "code",
   "execution_count": 3,
   "metadata": {},
   "outputs": [],
   "source": [
    "#load into pandas\n",
    "df1 = pd.read_csv(dataset1, sep='\\t', lineterminator='\\n', header=None)\n",
    "df2 = pd.read_csv(dataset2, sep='\\t', lineterminator='\\n', header=None)\n",
    "df3 = pd.read_csv(dataset3, sep='\\t', lineterminator='\\n', header=None)\n",
    "df4 = pd.read_csv(dataset4, sep='\\t', lineterminator='\\n', header=None)\n",
    "\n",
    "#set columns\n",
    "df1.columns = [\"x\", \"y\"]\n",
    "df2.columns = [\"x\", \"y\"]\n",
    "df3.columns = [\"x\", \"y\"]\n",
    "df4.columns = [\"x\", \"y\"]"
   ]
  },
  {
   "cell_type": "code",
   "execution_count": 4,
   "metadata": {},
   "outputs": [
    {
     "data": {
      "text/html": [
       "<div>\n",
       "<style scoped>\n",
       "    .dataframe tbody tr th:only-of-type {\n",
       "        vertical-align: middle;\n",
       "    }\n",
       "\n",
       "    .dataframe tbody tr th {\n",
       "        vertical-align: top;\n",
       "    }\n",
       "\n",
       "    .dataframe thead th {\n",
       "        text-align: right;\n",
       "    }\n",
       "</style>\n",
       "<table border=\"1\" class=\"dataframe\">\n",
       "  <thead>\n",
       "    <tr style=\"text-align: right;\">\n",
       "      <th></th>\n",
       "      <th>x</th>\n",
       "      <th>y</th>\n",
       "    </tr>\n",
       "  </thead>\n",
       "  <tbody>\n",
       "    <tr>\n",
       "      <th>0</th>\n",
       "      <td>10</td>\n",
       "      <td>8.04</td>\n",
       "    </tr>\n",
       "    <tr>\n",
       "      <th>1</th>\n",
       "      <td>8</td>\n",
       "      <td>6.95</td>\n",
       "    </tr>\n",
       "    <tr>\n",
       "      <th>2</th>\n",
       "      <td>13</td>\n",
       "      <td>7.58</td>\n",
       "    </tr>\n",
       "    <tr>\n",
       "      <th>3</th>\n",
       "      <td>9</td>\n",
       "      <td>8.81</td>\n",
       "    </tr>\n",
       "    <tr>\n",
       "      <th>4</th>\n",
       "      <td>11</td>\n",
       "      <td>8.33</td>\n",
       "    </tr>\n",
       "  </tbody>\n",
       "</table>\n",
       "</div>"
      ],
      "text/plain": [
       "    x     y\n",
       "0  10  8.04\n",
       "1   8  6.95\n",
       "2  13  7.58\n",
       "3   9  8.81\n",
       "4  11  8.33"
      ]
     },
     "execution_count": 4,
     "metadata": {},
     "output_type": "execute_result"
    }
   ],
   "source": [
    "df1.head()"
   ]
  },
  {
   "cell_type": "markdown",
   "metadata": {},
   "source": [
    "Using the numpy function mean, calculate the mean of both x-values and y-values for each dataset."
   ]
  },
  {
   "cell_type": "code",
   "execution_count": 5,
   "metadata": {},
   "outputs": [
    {
     "name": "stdout",
     "output_type": "stream",
     "text": [
      "Mean of dataset 1 col x:  9.0\n",
      "Mean of dataset 1 col y:  7.500909090909093\n",
      "Mean of dataset 2 col x:  9.0\n",
      "Mean of dataset 2 col y:  7.50090909090909\n",
      "Mean of dataset 3 col x:  9.0\n",
      "Mean of dataset 3 col y:  7.5\n",
      "Mean of dataset 4 col x:  9.0\n",
      "Mean of dataset 4 col y:  7.500909090909091\n"
     ]
    }
   ],
   "source": [
    "print(\"Mean of dataset 1 col x: \", np.mean(df1[\"x\"].values))\n",
    "print(\"Mean of dataset 1 col y: \", np.mean(df1[\"y\"].values))\n",
    "print(\"Mean of dataset 2 col x: \", np.mean(df2[\"x\"].values))\n",
    "print(\"Mean of dataset 2 col y: \", np.mean(df2[\"y\"].values))\n",
    "print(\"Mean of dataset 3 col x: \", np.mean(df3[\"x\"].values))\n",
    "print(\"Mean of dataset 3 col y: \", np.mean(df3[\"y\"].values))\n",
    "print(\"Mean of dataset 4 col x: \", np.mean(df4[\"x\"].values))\n",
    "print(\"Mean of dataset 4 col y: \", np.mean(df4[\"y\"].values))"
   ]
  },
  {
   "cell_type": "markdown",
   "metadata": {},
   "source": [
    "Use python string formatting to print precisely two decimal places of these results to the output cell."
   ]
  },
  {
   "cell_type": "code",
   "execution_count": 6,
   "metadata": {},
   "outputs": [
    {
     "name": "stdout",
     "output_type": "stream",
     "text": [
      "Mean of dataset 1 col x:        9.00\n",
      "Mean of dataset 1 col y:        7.50\n",
      "Mean of dataset 2 col x:        9.00\n",
      "Mean of dataset 2 col y:        7.50\n",
      "Mean of dataset 3 col x:        9.00\n",
      "Mean of dataset 3 col y:        7.50\n",
      "Mean of dataset 4 col x:        9.00\n",
      "Mean of dataset 4 col y:        7.50\n"
     ]
    }
   ],
   "source": [
    "print(\"Mean of dataset 1 col x: \", \"{:10.2f}\".format(np.mean(df1[\"x\"].values)))\n",
    "print(\"Mean of dataset 1 col y: \", \"{:10.2f}\".format(np.mean(df1[\"y\"].values)))\n",
    "print(\"Mean of dataset 2 col x: \", \"{:10.2f}\".format(np.mean(df2[\"x\"].values)))\n",
    "print(\"Mean of dataset 2 col y: \", \"{:10.2f}\".format(np.mean(df2[\"y\"].values)))\n",
    "print(\"Mean of dataset 3 col x: \", \"{:10.2f}\".format(np.mean(df3[\"x\"].values)))\n",
    "print(\"Mean of dataset 3 col y: \", \"{:10.2f}\".format(np.mean(df3[\"y\"].values)))\n",
    "print(\"Mean of dataset 4 col x: \", \"{:10.2f}\".format(np.mean(df4[\"x\"].values)))\n",
    "print(\"Mean of dataset 4 col y: \", \"{:10.2f}\".format(np.mean(df4[\"y\"].values)))"
   ]
  },
  {
   "cell_type": "markdown",
   "metadata": {},
   "source": [
    "Now calculate the variance for all of the various sets of x- and y-values (to three decimal places)."
   ]
  },
  {
   "cell_type": "code",
   "execution_count": 7,
   "metadata": {},
   "outputs": [
    {
     "name": "stdout",
     "output_type": "stream",
     "text": [
      "Variance of dataset 1 col x:      10.000\n",
      "Variance of dataset 1 col y:       3.752\n",
      "Variance of dataset 2 col x:      10.000\n",
      "Variance of dataset 2 col y:       3.752\n",
      "Variance of dataset 3 col x:      10.000\n",
      "Variance of dataset 3 col y:       3.748\n",
      "Variance of dataset 4 col x:      10.000\n",
      "Variance of dataset 4 col y:       3.748\n"
     ]
    }
   ],
   "source": [
    "# we know that standard deviation (std) is the square root of the variance, thus the \n",
    "# variance must be the square of the std\n",
    "\n",
    "print(\"Variance of dataset 1 col x: \", \"{:10.3f}\".format(np.std(df1[\"x\"].values)**2))\n",
    "print(\"Variance of dataset 1 col y: \", \"{:10.3f}\".format(np.std(df1[\"y\"].values)**2))\n",
    "print(\"Variance of dataset 2 col x: \", \"{:10.3f}\".format(np.std(df2[\"x\"].values)**2))\n",
    "print(\"Variance of dataset 2 col y: \", \"{:10.3f}\".format(np.std(df2[\"y\"].values)**2))\n",
    "print(\"Variance of dataset 3 col x: \", \"{:10.3f}\".format(np.std(df3[\"x\"].values)**2))\n",
    "print(\"Variance of dataset 3 col y: \", \"{:10.3f}\".format(np.std(df3[\"y\"].values)**2))\n",
    "print(\"Variance of dataset 4 col x: \", \"{:10.3f}\".format(np.std(df4[\"x\"].values)**2))\n",
    "print(\"Variance of dataset 4 col y: \", \"{:10.3f}\".format(np.std(df4[\"y\"].values)**2))"
   ]
  },
  {
   "cell_type": "markdown",
   "metadata": {},
   "source": [
    "Use numpy to calculate the Pearson correlation between x- and y-values for all four data sets (also to three decimal places)."
   ]
  },
  {
   "cell_type": "code",
   "execution_count": 8,
   "metadata": {},
   "outputs": [
    {
     "name": "stdout",
     "output_type": "stream",
     "text": [
      "dataset 1 Pearson correlation coefficient:       0.816\n",
      "dataset 2 Pearson correlation coefficient:       0.816\n",
      "dataset 3 Pearson correlation coefficient:       0.816\n",
      "dataset 4 Pearson correlation coefficient:       0.817\n"
     ]
    }
   ],
   "source": [
    "# use np.corrcoef returns a matrix, but use [1,0] to extract one number. Explanation: https://stackoverflow.com/a/3425548\n",
    "\n",
    "# dataset 1\n",
    "print(\"dataset 1 Pearson correlation coefficient: \", \"{:10.3f}\".format(np.corrcoef(df1[\"x\"].values, df1[\"y\"].values)[1,0]))\n",
    "\n",
    "# dataset 2\n",
    "print(\"dataset 2 Pearson correlation coefficient: \", \"{:10.3f}\".format(np.corrcoef(df2[\"x\"].values, df2[\"y\"].values)[1,0]))\n",
    "\n",
    "# dataset 3\n",
    "print(\"dataset 3 Pearson correlation coefficient: \", \"{:10.3f}\".format(np.corrcoef(df3[\"x\"].values, df3[\"y\"].values)[1,0]))\n",
    "\n",
    "# dataset 4\n",
    "print(\"dataset 4 Pearson correlation coefficient: \", \"{:10.3f}\".format(np.corrcoef(df4[\"x\"].values, df4[\"y\"].values)[1,0]))"
   ]
  },
  {
   "cell_type": "markdown",
   "metadata": {},
   "source": [
    "The next step is use linear regression to fit a straight line f(x)=ax+b through each dataset and report a and b (to two decimal places). An easy way to fit a straight line in Python is using scipy's linregress. It works like this\n",
    "\n",
    "from scipy import stats <br>\n",
    "slope, intercept, r_value, p_value, std_err = stats.linregress(x,y)"
   ]
  },
  {
   "cell_type": "code",
   "execution_count": 9,
   "metadata": {},
   "outputs": [
    {
     "name": "stdout",
     "output_type": "stream",
     "text": [
      "dataset 1 slope (a) and intercept (b):  a =      0.500 , b =      3.000\n",
      "dataset 2 slope (a) and intercept (b):  a =      0.500 , b =      3.001\n",
      "dataset 3 slope (a) and intercept (b):  a =      0.500 , b =      3.002\n",
      "dataset 4 slope (a) and intercept (b):  a =      0.500 , b =      3.002\n"
     ]
    }
   ],
   "source": [
    "#dataset 1\n",
    "df1_slope, df1_intercept, r_value, p_value, std_err = stats.linregress(df1[\"x\"].values, df1[\"y\"].values)\n",
    "print(\"dataset 1 slope (a) and intercept (b): \", \"a =\", \"{:10.3f}\".format(df1_slope), \", b =\", \"{:10.3f}\".format(df1_intercept))\n",
    "\n",
    "#dataset 2\n",
    "df2_slope, df2_intercept, r_value, p_value, std_err = stats.linregress(df2[\"x\"].values, df2[\"y\"].values)\n",
    "print(\"dataset 2 slope (a) and intercept (b): \", \"a =\", \"{:10.3f}\".format(df2_slope), \", b =\", \"{:10.3f}\".format(df2_intercept))\n",
    "\n",
    "#dataset 3\n",
    "df3_slope, df3_intercept, r_value, p_value, std_err = stats.linregress(df3[\"x\"].values, df3[\"y\"].values)\n",
    "print(\"dataset 3 slope (a) and intercept (b): \", \"a =\", \"{:10.3f}\".format(df3_slope), \", b =\", \"{:10.3f}\".format(df3_intercept))\n",
    "\n",
    "#dataset 4\n",
    "df4_slope, df4_intercept, r_value, p_value, std_err = stats.linregress(df4[\"x\"].values, df4[\"y\"].values)\n",
    "print(\"dataset 4 slope (a) and intercept (b): \", \"a =\", \"{:10.3f}\".format(df4_slope), \", b =\", \"{:10.3f}\".format(df4_intercept))"
   ]
  },
  {
   "cell_type": "markdown",
   "metadata": {},
   "source": [
    "Finally, it's time to plot the four datasets using matplotlib.pyplot. Use a two-by-two subplot to put all of the plots nicely in a grid and use the same x and y range for all four plots. And include the linear fit in all four plots. (To get a sense of what I think the plot should look like, you can take a look at my version here.)"
   ]
  },
  {
   "cell_type": "code",
   "execution_count": 10,
   "metadata": {},
   "outputs": [
    {
     "data": {
      "text/plain": [
       "'\\nplt.subplot(221)\\n#df1.plot(kind=\\'scatter\\',x=\\'x\\',y=\\'y\\',color=\\'black\\')\\nplt.scatter(df1.x, df1.y)\\nplt.title(\"Dataset 1\")\\n#plt.show()\\n\\nplt.subplot(222)\\n#df2.plot(kind=\\'scatter\\',x=\\'x\\',y=\\'y\\',color=\\'black\\')\\nplt.scatter(df2.x, df2.y)\\nplt.title(\"Dataset 2\")\\n#plt.show()\\n\\nplt.subplot(223)\\n#df2.plot(kind=\\'scatter\\',x=\\'x\\',y=\\'y\\',color=\\'black\\')\\nplt.scatter(df3.x, df3.y)\\nplt.title(\"Dataset 3\")\\n#plt.show()\\n\\nplt.subplot(224)\\n#df2.plot(kind=\\'scatter\\',x=\\'x\\',y=\\'y\\',color=\\'black\\')\\nplt.scatter(df4.x, df4.y)\\nplt.title(\"Dataset 4\")\\n\\nplt.tight_layout(pad=1.4, w_pad=1.5, h_pad=1.5)\\nplt.show()\\n'"
      ]
     },
     "execution_count": 10,
     "metadata": {},
     "output_type": "execute_result"
    }
   ],
   "source": [
    "# first plot attempt\n",
    "\"\"\"\n",
    "plt.subplot(221)\n",
    "#df1.plot(kind='scatter',x='x',y='y',color='black')\n",
    "plt.scatter(df1.x, df1.y)\n",
    "plt.title(\"Dataset 1\")\n",
    "#plt.show()\n",
    "\n",
    "plt.subplot(222)\n",
    "#df2.plot(kind='scatter',x='x',y='y',color='black')\n",
    "plt.scatter(df2.x, df2.y)\n",
    "plt.title(\"Dataset 2\")\n",
    "#plt.show()\n",
    "\n",
    "plt.subplot(223)\n",
    "#df2.plot(kind='scatter',x='x',y='y',color='black')\n",
    "plt.scatter(df3.x, df3.y)\n",
    "plt.title(\"Dataset 3\")\n",
    "#plt.show()\n",
    "\n",
    "plt.subplot(224)\n",
    "#df2.plot(kind='scatter',x='x',y='y',color='black')\n",
    "plt.scatter(df4.x, df4.y)\n",
    "plt.title(\"Dataset 4\")\n",
    "\n",
    "plt.tight_layout(pad=1.4, w_pad=1.5, h_pad=1.5)\n",
    "plt.show()\n",
    "\"\"\""
   ]
  },
  {
   "cell_type": "code",
   "execution_count": 11,
   "metadata": {},
   "outputs": [
    {
     "data": {
      "image/png": "[encoded data removed]",
      "text/plain": [
       "<Figure size 1600x1000 with 4 Axes>"
      ]
     },
     "metadata": {
      "needs_background": "light"
     },
     "output_type": "display_data"
    }
   ],
   "source": [
    "# scatter plots with linear fit line\n",
    "# https://stackoverflow.com/a/23525329 = source for how to plot linear fit line\n",
    "# https://stackoverflow.com/a/6683853 = source for how to generate array with fixed number of numbers between two limits\n",
    "\n",
    "f = plt.figure(figsize=(16,10), dpi=100)\n",
    "ax = f.add_subplot(221)\n",
    "ax2 = f.add_subplot(222)\n",
    "ax3 = f.add_subplot(223)\n",
    "ax4 = f.add_subplot(224)\n",
    "\n",
    "ax.scatter(df1.x, df1.y, color=\"black\", s=15)\n",
    "#ax.plot(df1.x, df1.x*df1_slope + df1_intercept, '-', color=\"red\") # add linear fit line based on slope and intercept calculated earlier\n",
    "ax.plot(np.linspace(1,19,11), np.linspace(1,19,11)*df1_slope + df1_intercept, '-', color=\"red\") # linear fit line with np.linespace to make the line go past the datapoints\n",
    "ax.set_title(\"Dataset 1\")\n",
    "ax.set_xlabel(\"x\")\n",
    "ax.set_ylabel(\"y\")\n",
    "ax.set_xlim((0,20))\n",
    "ax.set_ylim((2,14))\n",
    "\n",
    "ax2.scatter(df2.x, df2.y, color=\"black\", s=15)\n",
    "#ax2.plot(df2.x, df2.x*df2_slope + df2_intercept, '-', color=\"red\") # add linear fit line based on slope and intercept calculated earlier\n",
    "ax2.plot(np.linspace(1,19,11), np.linspace(1,19,11)*df2_slope + df2_intercept, '-', color=\"red\") # linear fit line with np.linespace to make the line go past the datapoints\n",
    "ax2.set_title(\"Dataset 2\")\n",
    "ax2.set_xlabel(\"x\")\n",
    "ax2.set_ylabel(\"y\")\n",
    "ax2.set_xlim(ax.get_xlim()) # set x limits to the same as the first plot\n",
    "ax2.set_ylim(ax.get_ylim()) # set y limits to the same as the first plot\n",
    "\n",
    "ax3.scatter(df3.x, df3.y, color=\"black\", s=15)\n",
    "#ax3.plot(df3.x, df3.x*df3_slope + df3_intercept, '-', color=\"red\") # add linear fit line based on slope and intercept calculated earlier\n",
    "ax3.plot(np.linspace(1,19,11), np.linspace(1,19,11)*df3_slope + df3_intercept, '-', color=\"red\") # linear fit line with np.linespace to make the line go past the datapoints\n",
    "ax3.set_title(\"Dataset 3\")\n",
    "ax3.set_xlabel(\"x\")\n",
    "ax3.set_ylabel(\"y\")\n",
    "ax3.set_xlim(ax.get_xlim()) # set x limits to the same as the first plot\n",
    "ax3.set_ylim(ax.get_ylim()) # set y limits to the same as the first plot\n",
    "\n",
    "ax4.scatter(df4.x, df4.y, color=\"black\", s=15)\n",
    "#ax4.plot(df4.x, df4.x*df4_slope + df4_intercept, '-', color=\"red\") # add linear fit line based on slope and intercept calculated earlier\n",
    "ax4.plot(np.linspace(1,19,11), np.linspace(1,19,11)*df4_slope + df4_intercept, '-', color=\"red\") # linear fit line with np.linespace to make the line go past the datapoints\n",
    "ax4.set_title(\"Dataset 4\")\n",
    "ax4.set_xlabel(\"x\")\n",
    "ax4.set_ylabel(\"y\")\n",
    "ax4.set_xlim(ax.get_xlim()) # set x limits to the same as the first plot\n",
    "ax4.set_ylim(ax.get_ylim()) # set y limits to the same as the first plot\n",
    "\n",
    "plt.show()"
   ]
  },
  {
   "cell_type": "markdown",
   "metadata": {},
   "source": [
    "Explain - in your own words - what you think my point with this exercise is.\n",
    "\n",
    "I think the point of this exercise is first of all to get some hands on experience with some python programming and math-related packages. Secondly, the point of this exercise is also to show that, mathematically, datasets may look very alike, like these four datasets do when looking at certain statistics such as mean and variance. But when graphed it becomes clear that the datapoints are in fact very different. This goes to show that datasets may be very different from each other when visualized. It counters the otherwise stance that numbers are exact, but visualizations are only rough, or in other words, that numbers show a more precise result and show more information."
   ]
  },
  {
   "cell_type": "code",
   "execution_count": null,
   "metadata": {},
   "outputs": [],
   "source": []
  }
 ],
 "metadata": {
  "kernelspec": {
   "display_name": "Python 3",
   "language": "python",
   "name": "python3"
  },
  "language_info": {
   "codemirror_mode": {
    "name": "ipython",
    "version": 3
   },
   "file_extension": ".py",
   "mimetype": "text/x-python",
   "name": "python",
   "nbconvert_exporter": "python",
   "pygments_lexer": "ipython3",
   "version": "3.7.1"
  }
 },
 "nbformat": 4,
 "nbformat_minor": 2
}
