{
 "cells": [
  {
   "cell_type": "markdown",
   "metadata": {},
   "source": [
    "# The python exercises\n",
    "\n",
    "**Ex 0**: The Jupyter Notebooks are organized as a list of cells. There are two central kinds of cells, they are called **Code** and **Markdown**. The cell type can be set [using a keyboard shortcut](http://sowingseasons.com/blog/jupyter-keyboard-shortcuts.html), or using the menu above.\n",
    "\n",
    "The **Code** cells simply contain the Python code, no big deal.\n",
    "\n",
    "The **Markdown** cells contain text (explanations, sections, etc). The text is written in Markdown. Markdown allows you to write using an easy-to-read, easy-to-write plain text format, then convert it to structurally valid XHTML (or HTML). You can read about it here:\n",
    "\n",
    "http://daringfireball.net/projects/markdown/\n",
    "\n",
    "In the cell below, write a short text that demonstrates that you can\n",
    "* Create a section\n",
    "* Write words in bold and italics\n",
    "* Create lists\n",
    "* Establish a [hyperlink](https://en.wikipedia.org/wiki/Hyperlink)"
   ]
  },
  {
   "cell_type": "markdown",
   "metadata": {},
   "source": [
    "*[Write the answer to **Ex 0** here]*"
   ]
  },
  {
   "cell_type": "markdown",
   "metadata": {},
   "source": [
    "**Ex 1**: Create a list `a` that contains the numbers from $1$ to $1110$, incremented by one, using the `range` function."
   ]
  },
  {
   "cell_type": "code",
   "execution_count": 16,
   "metadata": {},
   "outputs": [],
   "source": [
    "a = list(range(1, 1111))"
   ]
  },
  {
   "cell_type": "code",
   "execution_count": 18,
   "metadata": {
    "scrolled": true
   },
   "outputs": [],
   "source": [
    "# print(a)"
   ]
  },
  {
   "cell_type": "markdown",
   "metadata": {},
   "source": [
    "**Ex 2**: Show that you understand [slicing](http://stackoverflow.com/questions/509211/explain-pythons-slice-notation) in Python by extracting a list `b` with the numbers from $543$ to $779$ from the list created above."
   ]
  },
  {
   "cell_type": "code",
   "execution_count": 31,
   "metadata": {},
   "outputs": [],
   "source": [
    "b = a[542:779]"
   ]
  },
  {
   "cell_type": "code",
   "execution_count": 38,
   "metadata": {},
   "outputs": [
    {
     "name": "stdout",
     "output_type": "stream",
     "text": [
      "[543, 544, 545, 546, 547, 548, 549, 550, 551, 552, 553, 554, 555, 556, 557, 558, 559, 560, 561, 562, 563, 564, 565, 566, 567, 568, 569, 570, 571, 572, 573, 574, 575, 576, 577, 578, 579, 580, 581, 582, 583, 584, 585, 586, 587, 588, 589, 590, 591, 592, 593, 594, 595, 596, 597, 598, 599, 600, 601, 602, 603, 604, 605, 606, 607, 608, 609, 610, 611, 612, 613, 614, 615, 616, 617, 618, 619, 620, 621, 622, 623, 624, 625, 626, 627, 628, 629, 630, 631, 632, 633, 634, 635, 636, 637, 638, 639, 640, 641, 642, 643, 644, 645, 646, 647, 648, 649, 650, 651, 652, 653, 654, 655, 656, 657, 658, 659, 660, 661, 662, 663, 664, 665, 666, 667, 668, 669, 670, 671, 672, 673, 674, 675, 676, 677, 678, 679, 680, 681, 682, 683, 684, 685, 686, 687, 688, 689, 690, 691, 692, 693, 694, 695, 696, 697, 698, 699, 700, 701, 702, 703, 704, 705, 706, 707, 708, 709, 710, 711, 712, 713, 714, 715, 716, 717, 718, 719, 720, 721, 722, 723, 724, 725, 726, 727, 728, 729, 730, 731, 732, 733, 734, 735, 736, 737, 738, 739, 740, 741, 742, 743, 744, 745, 746, 747, 748, 749, 750, 751, 752, 753, 754, 755, 756, 757, 758, 759, 760, 761, 762, 763, 764, 765, 766, 767, 768, 769, 770, 771, 772, 773, 774, 775, 776, 777, 778, 779]\n"
     ]
    }
   ],
   "source": [
    "print(b)"
   ]
  },
  {
   "cell_type": "markdown",
   "metadata": {},
   "source": [
    "**Ex 3**: Using `def`, define a function that takes as input a number $x$ and outputs the number multiplied by itself plus three $f(x) = x(x+3)$. "
   ]
  },
  {
   "cell_type": "code",
   "execution_count": 33,
   "metadata": {},
   "outputs": [
    {
     "name": "stdout",
     "output_type": "stream",
     "text": [
      "10\n"
     ]
    }
   ],
   "source": [
    "def fx(x):\n",
    "    return x*(x+3)\n",
    "\n",
    "print(fx(2))"
   ]
  },
  {
   "cell_type": "markdown",
   "metadata": {},
   "source": [
    "**Ex 4**: Apply this function to every element of the list `b` using a `for` loop. "
   ]
  },
  {
   "cell_type": "code",
   "execution_count": 34,
   "metadata": {},
   "outputs": [
    {
     "name": "stdout",
     "output_type": "stream",
     "text": [
      "296478\n",
      "297568\n",
      "298660\n",
      "299754\n",
      "300850\n",
      "301948\n",
      "303048\n",
      "304150\n",
      "305254\n",
      "306360\n",
      "307468\n",
      "308578\n",
      "309690\n",
      "310804\n",
      "311920\n",
      "313038\n",
      "314158\n",
      "315280\n",
      "316404\n",
      "317530\n",
      "318658\n",
      "319788\n",
      "320920\n",
      "322054\n",
      "323190\n",
      "324328\n",
      "325468\n",
      "326610\n",
      "327754\n",
      "328900\n",
      "330048\n",
      "331198\n",
      "332350\n",
      "333504\n",
      "334660\n",
      "335818\n",
      "336978\n",
      "338140\n",
      "339304\n",
      "340470\n",
      "341638\n",
      "342808\n",
      "343980\n",
      "345154\n",
      "346330\n",
      "347508\n",
      "348688\n",
      "349870\n",
      "351054\n",
      "352240\n",
      "353428\n",
      "354618\n",
      "355810\n",
      "357004\n",
      "358200\n",
      "359398\n",
      "360598\n",
      "361800\n",
      "363004\n",
      "364210\n",
      "365418\n",
      "366628\n",
      "367840\n",
      "369054\n",
      "370270\n",
      "371488\n",
      "372708\n",
      "373930\n",
      "375154\n",
      "376380\n",
      "377608\n",
      "378838\n",
      "380070\n",
      "381304\n",
      "382540\n",
      "383778\n",
      "385018\n",
      "386260\n",
      "387504\n",
      "388750\n",
      "389998\n",
      "391248\n",
      "392500\n",
      "393754\n",
      "395010\n",
      "396268\n",
      "397528\n",
      "398790\n",
      "400054\n",
      "401320\n",
      "402588\n",
      "403858\n",
      "405130\n",
      "406404\n",
      "407680\n",
      "408958\n",
      "410238\n",
      "411520\n",
      "412804\n",
      "414090\n",
      "415378\n",
      "416668\n",
      "417960\n",
      "419254\n",
      "420550\n",
      "421848\n",
      "423148\n",
      "424450\n",
      "425754\n",
      "427060\n",
      "428368\n",
      "429678\n",
      "430990\n",
      "432304\n",
      "433620\n",
      "434938\n",
      "436258\n",
      "437580\n",
      "438904\n",
      "440230\n",
      "441558\n",
      "442888\n",
      "444220\n",
      "445554\n",
      "446890\n",
      "448228\n",
      "449568\n",
      "450910\n",
      "452254\n",
      "453600\n",
      "454948\n",
      "456298\n",
      "457650\n",
      "459004\n",
      "460360\n",
      "461718\n",
      "463078\n",
      "464440\n",
      "465804\n",
      "467170\n",
      "468538\n",
      "469908\n",
      "471280\n",
      "472654\n",
      "474030\n",
      "475408\n",
      "476788\n",
      "478170\n",
      "479554\n",
      "480940\n",
      "482328\n",
      "483718\n",
      "485110\n",
      "486504\n",
      "487900\n",
      "489298\n",
      "490698\n",
      "492100\n",
      "493504\n",
      "494910\n",
      "496318\n",
      "497728\n",
      "499140\n",
      "500554\n",
      "501970\n",
      "503388\n",
      "504808\n",
      "506230\n",
      "507654\n",
      "509080\n",
      "510508\n",
      "511938\n",
      "513370\n",
      "514804\n",
      "516240\n",
      "517678\n",
      "519118\n",
      "520560\n",
      "522004\n",
      "523450\n",
      "524898\n",
      "526348\n",
      "527800\n",
      "529254\n",
      "530710\n",
      "532168\n",
      "533628\n",
      "535090\n",
      "536554\n",
      "538020\n",
      "539488\n",
      "540958\n",
      "542430\n",
      "543904\n",
      "545380\n",
      "546858\n",
      "548338\n",
      "549820\n",
      "551304\n",
      "552790\n",
      "554278\n",
      "555768\n",
      "557260\n",
      "558754\n",
      "560250\n",
      "561748\n",
      "563248\n",
      "564750\n",
      "566254\n",
      "567760\n",
      "569268\n",
      "570778\n",
      "572290\n",
      "573804\n",
      "575320\n",
      "576838\n",
      "578358\n",
      "579880\n",
      "581404\n",
      "582930\n",
      "584458\n",
      "585988\n",
      "587520\n",
      "589054\n",
      "590590\n",
      "592128\n",
      "593668\n",
      "595210\n",
      "596754\n",
      "598300\n",
      "599848\n",
      "601398\n",
      "602950\n",
      "604504\n",
      "606060\n",
      "607618\n",
      "609178\n"
     ]
    }
   ],
   "source": [
    "for element in b:\n",
    "    print(fx(element))"
   ]
  },
  {
   "cell_type": "markdown",
   "metadata": {},
   "source": [
    "**Ex 5**: Do the same thing using a list comprehension."
   ]
  },
  {
   "cell_type": "code",
   "execution_count": null,
   "metadata": {
    "collapsed": true
   },
   "outputs": [],
   "source": []
  },
  {
   "cell_type": "markdown",
   "metadata": {},
   "source": [
    "**Ex 6**: Write the output of your function to a text file with one number per line."
   ]
  },
  {
   "cell_type": "code",
   "execution_count": 61,
   "metadata": {},
   "outputs": [],
   "source": [
    "import os\n",
    "\n",
    "with open('textfile.txt', 'w') as textfile:\n",
    "    for element in b:\n",
    "        textfile.write(str(element) + str('\\n'))"
   ]
  },
  {
   "cell_type": "markdown",
   "metadata": {},
   "source": [
    "**Ex 7**: Show that you know about strings using this example from http://learnpythonthehardway.org/book/ex6.html (code reproduced below).\n",
    "\n",
    "1. Go through the code below and write a code comment above each line explaining it.\n",
    "1. Find all the places where a string is put inside a string. There are four places.\n",
    "1. Are you sure there are only four places? How do you know? Maybe I like lying.\n",
    "1. Explain why adding the two strings w and e with + makes a longer string.\n",
    "\n",
    "\n",
    "[**Hint**: If you feel this is too complex, try completing the prior learningthehardway exercises first. Start [here](http://learnpythonthehardway.org/book/ex1.html). "
   ]
  },
  {
   "cell_type": "code",
   "execution_count": 66,
   "metadata": {},
   "outputs": [
    {
     "name": "stdout",
     "output_type": "stream",
     "text": [
      "There are 10 types of people.\n",
      "Those who know binary and those who don't.\n",
      "I said: 'There are 10 types of people.'.\n",
      "I also said: 'Those who know binary and those who don't.'.\n",
      "Isn't that joke so funny?! False\n",
      "This is the left side of...a string with a right side.\n"
     ]
    }
   ],
   "source": [
    "# Note from Sune: In Python, code comments follow the \"#\" character\n",
    "\n",
    "x = \"There are %d types of people.\" % 10\n",
    "binary = \"binary\"\n",
    "do_not = \"don't\"\n",
    "y = \"Those who know %s and those who %s.\" % (binary, do_not)\n",
    "\n",
    "print(x)\n",
    "print(y)\n",
    "\n",
    "print(\"I said: %r.\" % x)\n",
    "print(\"I also said: '%s'.\" % y)\n",
    "\n",
    "hilarious = False\n",
    "joke_evaluation = \"Isn't that joke so funny?! %r\"\n",
    "\n",
    "print (joke_evaluation % hilarious)\n",
    "w = \"This is the left side of...\"\n",
    "e = \"a string with a right side.\"\n",
    "\n",
    "\n",
    "print (w + e)"
   ]
  },
  {
   "cell_type": "markdown",
   "metadata": {},
   "source": [
    "*[Write the answer to **Ex 7**, 2-4 here]*"
   ]
  },
  {
   "cell_type": "markdown",
   "metadata": {},
   "source": [
    "**Ex 8**: First, learn about JSON by reading the **[wikipedia page](https://en.wikipedia.org/wiki/JSON)**. Then answer the following two questions in the cell below. \n",
    "\n",
    "* What is `json`? What do the letters stand for?\n",
    "* Why is `json` superior to `xml`? (... or why not?)"
   ]
  },
  {
   "cell_type": "markdown",
   "metadata": {},
   "source": [
    "*[Write your answer to **Ex 8** here]*"
   ]
  },
  {
   "cell_type": "markdown",
   "metadata": {},
   "source": [
    "**Ex 9a**: Use the `json` module (instructions on usage here: https://docs.python.org/2.7/library/json.html). \n",
    "\n",
    "First use `urllib2` (https://docs.python.org/2.7/howto/urllib2.html), or another Python library, to download **[this file](https://raw.githubusercontent.com/suneman/socialgraphs2016/master/files/test.json)**. \n",
    "\n",
    "The downloaded file is a string when you first download it, but you can use the `json` library to \"load\" the string and decode it to a Python object, using `json.loads()`. (The decoded string is a python object, a list with a single element, a dictionary (with nested dictionaries inside it))."
   ]
  },
  {
   "cell_type": "code",
   "execution_count": 67,
   "metadata": {},
   "outputs": [],
   "source": [
    "import requests"
   ]
  },
  {
   "cell_type": "code",
   "execution_count": 70,
   "metadata": {},
   "outputs": [],
   "source": [
    "response = requests.get('https://raw.githubusercontent.com/suneman/socialgraphs2016/master/files/test.json')"
   ]
  },
  {
   "cell_type": "code",
   "execution_count": 73,
   "metadata": {},
   "outputs": [],
   "source": [
    "import json\n",
    "\n",
    "json_file = json.loads(response.content)"
   ]
  },
  {
   "cell_type": "markdown",
   "metadata": {},
   "source": [
    "**Ex 9b**: Now, let's take a look at the file you downloaded. First, just write the name of the variable that contains the decoded file content and hit enter to take a look at it. It's  the list of Twitter Trending topics, a few days ago."
   ]
  },
  {
   "cell_type": "code",
   "execution_count": 75,
   "metadata": {},
   "outputs": [
    {
     "data": {
      "text/plain": [
       "[{'created_at': '2015-08-24T08:32:44Z',\n",
       "  'trends': [{'url': 'http://twitter.com/search?q=%23rfcvff',\n",
       "    'query': '%23rfcvff',\n",
       "    'name': '#rfcvff',\n",
       "    'promoted_content': None},\n",
       "   {'url': 'http://twitter.com/search?q=%23EFBFCM',\n",
       "    'query': '%23EFBFCM',\n",
       "    'name': '#EFBFCM',\n",
       "    'promoted_content': None},\n",
       "   {'url': 'http://twitter.com/search?q=%23bifsje',\n",
       "    'query': '%23bifsje',\n",
       "    'name': '#bifsje',\n",
       "    'promoted_content': None},\n",
       "   {'url': 'http://twitter.com/search?q=nordstrand',\n",
       "    'query': 'nordstrand',\n",
       "    'name': 'nordstrand',\n",
       "    'promoted_content': None},\n",
       "   {'url': 'http://twitter.com/search?q=%23WhyILoveLiam',\n",
       "    'query': '%23WhyILoveLiam',\n",
       "    'name': '#WhyILoveLiam',\n",
       "    'promoted_content': None},\n",
       "   {'url': 'http://twitter.com/search?q=%23lv2015',\n",
       "    'query': '%23lv2015',\n",
       "    'name': '#lv2015',\n",
       "    'promoted_content': None},\n",
       "   {'url': 'http://twitter.com/search?q=%22Harald+Nielsen%22',\n",
       "    'query': '%22Harald+Nielsen%22',\n",
       "    'name': 'Harald Nielsen',\n",
       "    'promoted_content': None},\n",
       "   {'url': 'http://twitter.com/search?q=Fnatic',\n",
       "    'query': 'Fnatic',\n",
       "    'name': 'Fnatic',\n",
       "    'promoted_content': None},\n",
       "   {'url': 'http://twitter.com/search?q=Nash',\n",
       "    'query': 'Nash',\n",
       "    'name': 'Nash',\n",
       "    'promoted_content': None},\n",
       "   {'url': 'http://twitter.com/search?q=kjeldsen',\n",
       "    'query': 'kjeldsen',\n",
       "    'name': 'kjeldsen',\n",
       "    'promoted_content': None}],\n",
       "  'as_of': '2015-08-24T08:36:54Z',\n",
       "  'locations': [{'woeid': 23424796, 'name': 'Denmark'}]}]"
      ]
     },
     "execution_count": 75,
     "metadata": {},
     "output_type": "execute_result"
    }
   ],
   "source": [
    "json_file"
   ]
  },
  {
   "cell_type": "markdown",
   "metadata": {},
   "source": [
    "**Ex 9c**: The thing you've just decoded is now a list of length 1. What are the names of the keys organizing the dictionary at position 0 in the list? (Just write the code to produce the answer.) \n",
    "\n",
    "**Hint** use the `.keys()` method to easily get the keys of any dictionary."
   ]
  },
  {
   "cell_type": "code",
   "execution_count": 93,
   "metadata": {},
   "outputs": [
    {
     "name": "stdout",
     "output_type": "stream",
     "text": [
      "dict_keys(['created_at', 'trends', 'as_of', 'locations'])\n"
     ]
    }
   ],
   "source": [
    "print(json_file[0].keys())"
   ]
  },
  {
   "cell_type": "markdown",
   "metadata": {},
   "source": [
    "**Ex 9d**: Two small questions \n",
    "* What time did I create the list of Trending Topics?\n",
    "* Print the names of the trending topics (bonus for using a list comprehension)\n",
    "\n",
    "(Just write the code to produce the answer.)"
   ]
  },
  {
   "cell_type": "code",
   "execution_count": 95,
   "metadata": {},
   "outputs": [
    {
     "data": {
      "text/plain": [
       "'2015-08-24T08:32:44Z'"
      ]
     },
     "execution_count": 95,
     "metadata": {},
     "output_type": "execute_result"
    }
   ],
   "source": [
    "json_file[0]['created_at']"
   ]
  },
  {
   "cell_type": "code",
   "execution_count": 101,
   "metadata": {},
   "outputs": [],
   "source": [
    "names = []\n",
    "for dict_el in json_file[0]['trends']:\n",
    "    names.append(dict_el['name'])"
   ]
  },
  {
   "cell_type": "code",
   "execution_count": 102,
   "metadata": {},
   "outputs": [
    {
     "name": "stdout",
     "output_type": "stream",
     "text": [
      "['#rfcvff', '#EFBFCM', '#bifsje', 'nordstrand', '#WhyILoveLiam', '#lv2015', 'Harald Nielsen', 'Fnatic', 'Nash', 'kjeldsen']\n"
     ]
    }
   ],
   "source": [
    "print(names)"
   ]
  },
  {
   "cell_type": "markdown",
   "metadata": {},
   "source": [
    "**Ex 9e**: Two more small questions\n",
    "* Go on-line and figure out why there's a `u` in front of every string. Write the answer in your own words. (Hint it has to do with strings in Python).\n",
    "* What's going on with all of the `%22` and `%23`? Go on-line and figure it out. Write the answer in your own words. (Hint: It has to do with HTML URL encoding)"
   ]
  },
  {
   "cell_type": "markdown",
   "metadata": {},
   "source": [
    "*[Write your answer to **Ex 9e** here]*"
   ]
  },
  {
   "cell_type": "code",
   "execution_count": null,
   "metadata": {
    "collapsed": true
   },
   "outputs": [],
   "source": []
  }
 ],
 "metadata": {
  "anaconda-cloud": {},
  "kernelspec": {
   "display_name": "Python 3",
   "language": "python",
   "name": "python3"
  },
  "language_info": {
   "codemirror_mode": {
    "name": "ipython",
    "version": 3
   },
   "file_extension": ".py",
   "mimetype": "text/x-python",
   "name": "python",
   "nbconvert_exporter": "python",
   "pygments_lexer": "ipython3",
   "version": "3.7.1"
  }
 },
 "nbformat": 4,
 "nbformat_minor": 1
}
